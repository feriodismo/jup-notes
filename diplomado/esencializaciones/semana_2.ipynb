{
 "cells": [
  {
   "cell_type": "markdown",
   "metadata": {},
   "source": [
    "**Clase 1 - Miercoles Sep. 9 (7-9)**"
   ]
  },
  {
   "cell_type": "markdown",
   "metadata": {},
   "source": [
    "***\n",
    "Recordatorio al inicio del proyecto\n",
    "\n",
    "Juan Arango convoca a una reunion\n",
    "\n",
    "Repaso sobre algebra lineal\n",
    "\n",
    "Conceptos basico sobre la probabilidad\n",
    "\n",
    "Video presentado por Oleg sobre metodo nerf, inteligencia artificial para la interpretcion de imagenes"
   ]
  },
  {
   "cell_type": "markdown",
   "metadata": {},
   "source": [
    "**Clase 2 - Miercoles Sep. 10 (7-9)**"
   ]
  },
  {
   "cell_type": "markdown",
   "metadata": {},
   "source": [
    "***\n",
    "Reunion con Juan Arango y Juan Camacho\n",
    "\n",
    "¿Que es un modelo, que es un modelo matematico?\n",
    "\n",
    "*Entender el teorema de pitagoras*\n",
    "\n",
    "*Ver curso de como simplificar modelos para modelar datos*\n"
   ]
  },
  {
   "cell_type": "markdown",
   "metadata": {},
   "source": [
    "**Clase 3 - Sabado Sep. 12 (9-12)**\n",
    "\n",
    "Discusion sobre como hacer los proyectos\n",
    "\n"
   ]
  },
  {
   "cell_type": "markdown",
   "metadata": {},
   "source": [
    "***"
   ]
  },
  {
   "cell_type": "markdown",
   "metadata": {},
   "source": [
    "**Clase 4 - Sabado Sep. 12 (2-5)**"
   ]
  },
  {
   "cell_type": "markdown",
   "metadata": {},
   "source": [
    "***"
   ]
  }
 ],
 "metadata": {
  "kernelspec": {
   "display_name": "Python 3",
   "language": "python",
   "name": "python3"
  },
  "language_info": {
   "codemirror_mode": {
    "name": "ipython",
    "version": 3
   },
   "file_extension": ".py",
   "mimetype": "text/x-python",
   "name": "python",
   "nbconvert_exporter": "python",
   "pygments_lexer": "ipython3",
   "version": "3.7.8"
  }
 },
 "nbformat": 4,
 "nbformat_minor": 4
}
