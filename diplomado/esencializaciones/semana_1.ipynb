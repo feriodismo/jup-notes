{
 "cells": [
  {
   "cell_type": "markdown",
   "metadata": {},
   "source": [
    "**Clase 1 - Miercoles Sep. 2 (7-9)**"
   ]
  },
  {
   "cell_type": "markdown",
   "metadata": {},
   "source": [
    "Introduccion al aprendizaje automatico\n",
    "\n",
    "Preguntas esenciales sobre el aprendizaje automatico\n",
    "\n",
    "    -¿que es?\n",
    "    -¿que no lo es?\n",
    "    -¿problemas y consecuencias?\n",
    "    -¿posibilidades?\n",
    "    \n",
    "    \n",
    "El papel que juegan los **autoecoders** en el aprendizaje automatico\n",
    "***"
   ]
  },
  {
   "cell_type": "markdown",
   "metadata": {},
   "source": [
    "**Clase 2 - Jueves Sep. 3 (7-9)**\n",
    "\n",
    "Posibilidades interesantes que nos permite el aprendizaje automatico\n",
    "\n",
    "Herramientas importantes para el tratamiento del aprendizaje automatico\n",
    "\n",
    "    -github\n",
    "    -jupter lab\n",
    "    -binder\n",
    "    -nbviewer"
   ]
  },
  {
   "cell_type": "markdown",
   "metadata": {},
   "source": [
    "***"
   ]
  },
  {
   "cell_type": "markdown",
   "metadata": {},
   "source": [
    "**Clase 3 - Sabado Sep. 5 (9-12)**\n",
    "\n",
    "Entendiendo conceptos basicos de la algebra lineal\n",
    "\n",
    "Tratamiento de imagen, desde el punto de vista algebraico y de matrices\n",
    "***"
   ]
  },
  {
   "cell_type": "markdown",
   "metadata": {},
   "source": [
    "**Clase 4 - Sabado Sep. 5 (2-5)**"
   ]
  },
  {
   "cell_type": "markdown",
   "metadata": {},
   "source": [
    "Presentacion de los integrantes del diplomado\n",
    "\n",
    "Preguntas interesantes al final de la clase\n",
    "\n",
    "Mix de intereses\n",
    "***"
   ]
  }
 ],
 "metadata": {
  "kernelspec": {
   "display_name": "Python 3",
   "language": "python",
   "name": "python3"
  },
  "language_info": {
   "codemirror_mode": {
    "name": "ipython",
    "version": 3
   },
   "file_extension": ".py",
   "mimetype": "text/x-python",
   "name": "python",
   "nbconvert_exporter": "python",
   "pygments_lexer": "ipython3",
   "version": "3.7.8"
  }
 },
 "nbformat": 4,
 "nbformat_minor": 4
}
