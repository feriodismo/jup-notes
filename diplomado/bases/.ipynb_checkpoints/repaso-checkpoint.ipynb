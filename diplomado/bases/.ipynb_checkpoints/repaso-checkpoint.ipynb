{
 "cells": [
  {
   "cell_type": "code",
   "execution_count": 17,
   "metadata": {},
   "outputs": [],
   "source": [
    "import numpy as np"
   ]
  },
  {
   "cell_type": "code",
   "execution_count": 49,
   "metadata": {},
   "outputs": [
    {
     "name": "stdout",
     "output_type": "stream",
     "text": [
      "<class 'numpy.ndarray'>\n",
      "shape: (3,), size: 3, dimensiones: 1\n"
     ]
    }
   ],
   "source": [
    "lista = []\n",
    "M = np.array([1, 2, 3])\n",
    "\n",
    "print(type(s))\n",
    "print('shape: {}, size: {}, dimensiones: {}'.format(M.shape, M.size, M.ndim))"
   ]
  },
  {
   "cell_type": "code",
   "execution_count": 52,
   "metadata": {},
   "outputs": [
    {
     "name": "stdout",
     "output_type": "stream",
     "text": [
      "[1 1 1]\n",
      "<class 'numpy.int8'>\n",
      "1\n",
      "shape columns: (3,)\n"
     ]
    }
   ],
   "source": [
    "O = np.ones(M.shape, dtype='int8')\n",
    "print(O)\n",
    "print(type(O[0]))\n",
    "print(O[2])\n",
    "print('shape columns: {}'.format(O.shape))"
   ]
  },
  {
   "cell_type": "code",
   "execution_count": 58,
   "metadata": {},
   "outputs": [
    {
     "name": "stdout",
     "output_type": "stream",
     "text": [
      "[[0.3 0.3 0.3]\n",
      " [0.3 0.3 0.3]]\n",
      "shapes, col: 3, row: 2\n"
     ]
    }
   ],
   "source": [
    "F = np.full(fill_value=.3, shape=(2, 3))\n",
    "print(F)\n",
    "print('shapes, col: {}, row: {}'.format(F.shape[1], F.shape[0]))"
   ]
  },
  {
   "cell_type": "code",
   "execution_count": 67,
   "metadata": {},
   "outputs": [
    {
     "name": "stdout",
     "output_type": "stream",
     "text": [
      "(4, 4, 8)\n",
      "3\n"
     ]
    }
   ],
   "source": [
    "T = np.full((4, 4, 8), 7)\n",
    "# print(T)\n",
    "print(T.shape)\n",
    "print(T.ndim)"
   ]
  },
  {
   "cell_type": "code",
   "execution_count": 72,
   "metadata": {},
   "outputs": [
    {
     "name": "stdout",
     "output_type": "stream",
     "text": [
      "576\n"
     ]
    }
   ],
   "source": [
    "T2 = np.full((10, 8, 9, 8), 7)\n",
    "# print(T)\n",
    "# print(T2.shape)\n",
    "# print(T2.ndim)\n",
    "print(T2.size)"
   ]
  },
  {
   "cell_type": "code",
   "execution_count": null,
   "metadata": {},
   "outputs": [],
   "source": []
  }
 ],
 "metadata": {
  "kernelspec": {
   "display_name": "Python 3",
   "language": "python",
   "name": "python3"
  },
  "language_info": {
   "codemirror_mode": {
    "name": "ipython",
    "version": 3
   },
   "file_extension": ".py",
   "mimetype": "text/x-python",
   "name": "python",
   "nbconvert_exporter": "python",
   "pygments_lexer": "ipython3",
   "version": "3.7.8"
  }
 },
 "nbformat": 4,
 "nbformat_minor": 4
}
