{
 "cells": [
  {
   "cell_type": "markdown",
   "metadata": {},
   "source": [
    "**Sobre webinario**<br>\n",
    "short, high-freq, high-amp<br>\n",
    "cuando hay contacto entre metal y metal<br>\n",
    "terminos basico trend data<br>\n",
    "peakvue or peaktrue\n"
   ]
  },
  {
   "cell_type": "markdown",
   "metadata": {},
   "source": [
    "**Sobre estadistica**<br>\n"
   ]
  },
  {
   "cell_type": "markdown",
   "metadata": {},
   "source": [
    "notas para transferir\n",
    "\n",
    "el objetivo es entender que se esta haciendo con las capas\n",
    "\n",
    "repaso de los tensores, un tensor de una dimension es un vector\n",
    "un tensor de dimension dos es una matriz (dos indice) fila y columna para llegar a un elemento\n",
    "repasamos con los dibujos las formas de los tensores\n",
    "\n",
    "el lenguaje de la ciencia es la probabilidad y la estadistica segun el profe, siendo estadistico.\n",
    "(que es un modelo estocastico?)\n",
    "\n",
    "estadistica.\n",
    "\n",
    "1. que es el espacio muestral?\n",
    "\n",
    "tenemos una bolsa con bolas, con 20 bolas\n",
    "\n",
    "espacio muestral: conjunto de todos los objetos donde se va estudiar\n",
    "\n",
    "evento: un subconjunto del espacio muestral\n",
    "cuantos subconjuntos?<br>\n",
    "$2^M$\n",
    "como calcular exponentes en python?\n",
    "\n",
    "algo que me di cuenta en la diferencia entre uniones o interseccion es que union es 'o' intercciones 'y' -> union ||, interseccion &&,\n",
    "\n",
    "\n",
    "el complemento es lo que no esta en el, esto es la resta entre el subconjunto y el conjunto\n",
    "\n",
    "Probabilidad condicional\n",
    "\n",
    "Prob(par|azul)\n",
    "basicamente cambia la medida por el subconjunto dado\n",
    "prob(par|azul) = prob(par $\\cap$ azul) / pron(azul)\n",
    "\n",
    "multiplicadad de intersecciones es\n",
    "a int b = prob b x prob a dado a b\n",
    "\n",
    "\n",
    "estudiar notebooks, y ver videos de minuto 1:30 - 1:40"
   ]
  },
  {
   "cell_type": "code",
   "execution_count": 2,
   "metadata": {},
   "outputs": [
    {
     "name": "stdout",
     "output_type": "stream",
     "text": [
      "22\n"
     ]
    }
   ],
   "source": [
    "sb = 2^20\n",
    "print(sb)"
   ]
  },
  {
   "cell_type": "code",
   "execution_count": 4,
   "metadata": {},
   "outputs": [],
   "source": [
    "import numpy as np"
   ]
  },
  {
   "cell_type": "code",
   "execution_count": 6,
   "metadata": {},
   "outputs": [],
   "source": [
    "M = np.zeros((36, 2))\n",
    "k = 0\n",
    "for i in range(1, 7):\n",
    "    for j in (1, 7):\n",
    "        M[k,] = (i, j)\n",
    "        k+=1\n",
    "        \n",
    "M = np.arange(1, 6)"
   ]
  },
  {
   "cell_type": "code",
   "execution_count": null,
   "metadata": {},
   "outputs": [],
   "source": []
  }
 ],
 "metadata": {
  "kernelspec": {
   "display_name": "Python 3",
   "language": "python",
   "name": "python3"
  },
  "language_info": {
   "codemirror_mode": {
    "name": "ipython",
    "version": 3
   },
   "file_extension": ".py",
   "mimetype": "text/x-python",
   "name": "python",
   "nbconvert_exporter": "python",
   "pygments_lexer": "ipython3",
   "version": "3.7.8"
  }
 },
 "nbformat": 4,
 "nbformat_minor": 4
}
