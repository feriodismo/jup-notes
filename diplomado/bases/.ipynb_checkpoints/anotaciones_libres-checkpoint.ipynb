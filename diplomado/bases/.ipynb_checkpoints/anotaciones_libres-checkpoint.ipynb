{
 "cells": [
  {
   "cell_type": "markdown",
   "metadata": {},
   "source": [
    "**Sobre webinario**<br>\n",
    "short, high-freq, high-amp<br>\n",
    "cuando hay contacto entre metal y metal<br>\n",
    "terminos basico trend data<br>\n",
    "peakvue or peaktrue\n"
   ]
  },
  {
   "cell_type": "markdown",
   "metadata": {},
   "source": [
    "**Sobre estadistica**<br>\n"
   ]
  },
  {
   "cell_type": "markdown",
   "metadata": {},
   "source": [
    "notas para transferir\n",
    "\n",
    "el objetivo es entender que se esta haciendo con las capas\n",
    "\n",
    "repaso de los tensores, un tensor de una dimension es un vector\n",
    "un tensor de dimension dos es una matriz (dos indice) fila y columna para llegar a un elemento\n",
    "repasamos con los dibujos las formas de los tensores\n",
    "\n",
    "el lenguaje de la ciencia es la probabilidad y la estadistica segun el profe, siendo estadistico.\n",
    "(que es un modelo estocastico?)\n",
    "\n",
    "estadistica.\n",
    "\n",
    "1. que es el espacio muestral?\n",
    "\n",
    "tenemos una bolsa con bolas, con 20 bolas\n",
    "\n",
    "espacio muestral: conjunto de todos los objetos donde se va estudiar\n",
    "\n",
    "evento: un subconjunto del espacio muestral\n",
    "cuantos subconjuntos?<br>\n",
    "$2^M$\n",
    "como calcular exponentes en python?\n",
    "\n",
    "algo que me di cuenta en la diferencia entre uniones o interseccion es que union es 'o' intercciones 'y' -> union ||, interseccion &&,\n",
    "\n",
    "\n",
    "el complemento es lo que no esta en el, esto es la resta entre el subconjunto y el conjunto\n",
    "\n",
    "Probabilidad condicional\n",
    "\n",
    "Prob(par|azul)\n",
    "basicamente cambia la medida por el subconjunto dado\n",
    "prob(par|azul) = prob(par $\\cap$ azul) / pron(azul)\n",
    "\n",
    "multiplicadad de intersecciones es\n",
    "a int b = prob b x prob a dado a b\n",
    "\n",
    "\n",
    "estudiar notebooks, y ver videos de minuto 1:30 - 1:40"
   ]
  },
  {
   "cell_type": "code",
   "execution_count": 2,
   "metadata": {},
   "outputs": [
    {
     "name": "stdout",
     "output_type": "stream",
     "text": [
      "22\n"
     ]
    }
   ],
   "source": [
    "sb = 2^20\n",
    "print(sb)"
   ]
  },
  {
   "cell_type": "code",
   "execution_count": 4,
   "metadata": {},
   "outputs": [],
   "source": [
    "import numpy as np"
   ]
  },
  {
   "cell_type": "code",
   "execution_count": 6,
   "metadata": {},
   "outputs": [],
   "source": [
    "M = np.zeros((36, 2))\n",
    "k = 0\n",
    "for i in range(1, 7):\n",
    "    for j in (1, 7):\n",
    "        M[k,] = (i, j)\n",
    "        k+=1\n",
    "        \n",
    "M = np.arange(1, 6)"
   ]
  },
  {
   "cell_type": "markdown",
   "metadata": {},
   "source": [
    "***\n",
    "09/10/2020"
   ]
  },
  {
   "cell_type": "markdown",
   "metadata": {},
   "source": [
    "timoshenko la historia de la resistencia de los materialesm"
   ]
  },
  {
   "cell_type": "markdown",
   "metadata": {},
   "source": [
    "09/12/2020"
   ]
  },
  {
   "cell_type": "markdown",
   "metadata": {},
   "source": [
    "Entendi que es una variable aleatoria, cuando se denota $f$"
   ]
  },
  {
   "cell_type": "code",
   "execution_count": 2,
   "metadata": {},
   "outputs": [
    {
     "name": "stdout",
     "output_type": "stream",
     "text": [
      "[0.         0.01010101 0.02020202 0.03030303 0.04040404 0.05050505\n",
      " 0.06060606 0.07070707 0.08080808 0.09090909 0.1010101  0.11111111\n",
      " 0.12121212 0.13131313 0.14141414 0.15151515 0.16161616 0.17171717\n",
      " 0.18181818 0.19191919 0.2020202  0.21212121 0.22222222 0.23232323\n",
      " 0.24242424 0.25252525 0.26262626 0.27272727 0.28282828 0.29292929\n",
      " 0.3030303  0.31313131 0.32323232 0.33333333 0.34343434 0.35353535\n",
      " 0.36363636 0.37373737 0.38383838 0.39393939 0.4040404  0.41414141\n",
      " 0.42424242 0.43434343 0.44444444 0.45454545 0.46464646 0.47474747\n",
      " 0.48484848 0.49494949 0.50505051 0.51515152 0.52525253 0.53535354\n",
      " 0.54545455 0.55555556 0.56565657 0.57575758 0.58585859 0.5959596\n",
      " 0.60606061 0.61616162 0.62626263 0.63636364 0.64646465 0.65656566\n",
      " 0.66666667 0.67676768 0.68686869 0.6969697  0.70707071 0.71717172\n",
      " 0.72727273 0.73737374 0.74747475 0.75757576 0.76767677 0.77777778\n",
      " 0.78787879 0.7979798  0.80808081 0.81818182 0.82828283 0.83838384\n",
      " 0.84848485 0.85858586 0.86868687 0.87878788 0.88888889 0.8989899\n",
      " 0.90909091 0.91919192 0.92929293 0.93939394 0.94949495 0.95959596\n",
      " 0.96969697 0.97979798 0.98989899 1.        ]\n"
     ]
    }
   ],
   "source": [
    "import numpy as np\n",
    "pi = np.linspace(0, 1, 100)\n",
    "print(pi)"
   ]
  },
  {
   "cell_type": "markdown",
   "metadata": {},
   "source": [
    "tcp -> el senior shannon de la siemens de los 50  Claude Shannon"
   ]
  }
 ],
 "metadata": {
  "kernelspec": {
   "display_name": "Python 3",
   "language": "python",
   "name": "python3"
  },
  "language_info": {
   "codemirror_mode": {
    "name": "ipython",
    "version": 3
   },
   "file_extension": ".py",
   "mimetype": "text/x-python",
   "name": "python",
   "nbconvert_exporter": "python",
   "pygments_lexer": "ipython3",
   "version": "3.7.8"
  }
 },
 "nbformat": 4,
 "nbformat_minor": 4
}
