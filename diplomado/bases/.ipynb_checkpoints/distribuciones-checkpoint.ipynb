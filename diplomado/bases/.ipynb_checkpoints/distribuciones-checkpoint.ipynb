{
 "cells": [
  {
   "cell_type": "markdown",
   "metadata": {},
   "source": [
    "#### Distribuciones Binomiales ####"
   ]
  },
  {
   "cell_type": "markdown",
   "metadata": {},
   "source": [
    "Las variables aleatorias, exigen siempre unos parametros para detectar la probabilidad cuando este entra en su funciones.<br>\n",
    "Estos parametros tienen que cumplir unas ciertas normas, al cumplir estas normas se podria decir que los datos a los que se quiere analizar las probabilidades entran dentro de esta distribucion.<br>\n",
    "\n",
    "**Condiciones**\n",
    "\n",
    "   1) $n\\ge0$ (numeros enteros)<br>\n",
    "   2) $0 \\ge p \\ge 1$ (probabilidad de exito, tiene que estar entre 0 y 1)\n",
    "\n",
    "**Parametros**\n",
    "\n",
    "   1) $p$ = probabilidad de exito (ej. la probabilidad de exito de que en un dado salga 3 es de 1/6 ya que el 3 es un numero entre 6 posibles numeros)<br>\n",
    "   2) $n$ = numero de experimentos (ej. cuantas veces se lanzo el dado)<br>\n",
    "   3) $x$ = numero de veces con exito (ej. quiero saber la probabilidad de que el dado caiga 5 veces en un chance de 10 lanzada en el numero 3, x = 5)\n",
    "   \n",
    "*Si $x$ no esta definido esto indica que se hara una distribucion, es decir, se hara el analizis completo de las 10 lanzadas de dador, comprobando el la probabilidad de que salga 3 en el dado, $[0, 1, 2, 3, 4 ... n]$*\n",
    "\n",
    "**Formula**\n",
    "\n",
    "$f(x) = \\displaystyle\\binom{n}{x} p^x(1-p)^{n-x}$, donde<br>\n",
    "$ \\displaystyle\\binom{n}{x} = {\\dfrac{n!}{x!(n-x)!}} $<br>\n",
    "\n",
    "Para calcular la anterior ecuacion, hay que tener en cuenta de resolver la resta del dividendo antes de aplicar el factorial, tambien hay que tener en cuenta la siguiente regla:\n",
    "\n",
    "$ 0! = 1! = 1 $ (cero factorial es igual a uno)"
   ]
  },
  {
   "cell_type": "code",
   "execution_count": 101,
   "metadata": {},
   "outputs": [],
   "source": [
    "# grafico generico de distribucion\n",
    "def bar_dist(x, prob):   \n",
    "    plt.figure(figsize=(20,10))\n",
    "    plt.bar(x, height=prob)\n",
    "    plt.title('Distribucion de Poisson')\n",
    "    plt.xlabel('Valores de  $k$')\n",
    "    plt.ylabel('Probabilidad')\n",
    "    plt.show()"
   ]
  },
  {
   "cell_type": "code",
   "execution_count": 101,
   "metadata": {},
   "outputs": [
    {
     "name": "stdout",
     "output_type": "stream",
     "text": [
      "32.3%\n",
      "\n",
      "la distribucion completa del problema a resolver es: \n",
      "\n",
      " [0.16, 0.32, 0.29, 0.16, 0.05, 0.01, 0.0, 0.0, 0.0, 0.0]\n"
     ]
    }
   ],
   "source": [
    "import numpy as np\n",
    "import math as m\n",
    "x = 1\n",
    "p = 1/6\n",
    "N = 10\n",
    "\n",
    "def binomial(x, p, N):\n",
    "    return (m.factorial(N))/(m.factorial(x)*m.factorial(N-x))*(p**x)*((1-p)**(N-x))\n",
    "print('{}%'.format(round(100*binomial(x, p, N), 2)))\n",
    "def binomial_dist(x, p, N):\n",
    "    data = []\n",
    "    X = list(np.arange(0, N))\n",
    "    for x in X:\n",
    "        data.append(round((m.factorial(N))/(m.factorial(x)*m.factorial(N-x))*(p**x)*((1-p)**(N-x)),2))\n",
    "    return data\n",
    "print('\\nla distribucion completa del problema a resolver es: \\n\\n {}'.format(binomial_dist(x, p, N)))"
   ]
  },
  {
   "cell_type": "markdown",
   "metadata": {},
   "source": [
    "***\n",
    "#### Distribuciones de Poisson ####"
   ]
  },
  {
   "cell_type": "markdown",
   "metadata": {},
   "source": [
    "**Condiciones**\n",
    "\n",
    "1) $X = n$ de veces que ocurre un evento durante un intervalo definido, bien sea tiempo, distancia, volumen, etc. (ej. cuantas bacterias hay en 1 (variable n) litro de agua, cuantas personas vienen a la tienda en 1 (variable n) dia, etc)<br>\n",
    "2) $p =$ probabilidad es la misma para cualesquiera dos intervalo de igual longitud (un ratio o una media de bacterias en un litro, etc)<br>\n",
    "3) La ocurrencia o no ocurrencia de cualquier intervalo es independiente de la ocurrencia o no ocurrencia de cualquier otro intervalo<br>\n",
    "4) Dos eventos no puede ocurrir exactamente al mismo tiempo.<br>\n",
    "\n",
    "**Parametros**\n",
    "\n",
    "1) Numeros de ocurrencia = n<br>\n",
    "2) Probabilidad de ocurrencias (promedio) = µ\n",
    "\n",
    "**Formula**\n",
    "\n",
    "$f(x) = {\\dfrac{e^{-µ}µ^{x}}{!x}}$ <br><br>donde $e = 2.718281828459045$ \n",
    "\n"
   ]
  },
  {
   "cell_type": "code",
   "execution_count": 102,
   "metadata": {},
   "outputs": [
    {
     "name": "stdout",
     "output_type": "stream",
     "text": [
      "2.65%\n"
     ]
    },
    {
     "data": {
      "image/png": "[encoded data removed]",
      "text/plain": [
       "<Figure size 1440x720 with 1 Axes>"
      ]
     },
     "metadata": {
      "needs_background": "light"
     },
     "output_type": "display_data"
    }
   ],
   "source": [
    "import matplotlib.pyplot as plt\n",
    "µ =5.3\n",
    "x = 1\n",
    "k = list(np.arange(0, 21))\n",
    "\n",
    "def poisson(µ, x):\n",
    "    return (m.exp(-µ)*(µ**x))/m.factorial(x)\n",
    "print('{}%'.format((round(poisson(µ, x)*100, 2))))\n",
    "\n",
    "\n",
    "def dist_poisson(µ, x):\n",
    "    data = []\n",
    "    for i in x:\n",
    "        data.append(round(100*(m.exp(-µ)*(µ**i))/m.factorial(i), 2))\n",
    "    return data\n",
    "prob = dist_poisson(µ, k)\n",
    "\n",
    "bar_dist(k, prob)"
   ]
  },
  {
   "cell_type": "code",
   "execution_count": null,
   "metadata": {},
   "outputs": [],
   "source": []
  }
 ],
 "metadata": {
  "kernelspec": {
   "display_name": "Python 3",
   "language": "python",
   "name": "python3"
  },
  "language_info": {
   "codemirror_mode": {
    "name": "ipython",
    "version": 3
   },
   "file_extension": ".py",
   "mimetype": "text/x-python",
   "name": "python",
   "nbconvert_exporter": "python",
   "pygments_lexer": "ipython3",
   "version": "3.7.8"
  }
 },
 "nbformat": 4,
 "nbformat_minor": 4
}
