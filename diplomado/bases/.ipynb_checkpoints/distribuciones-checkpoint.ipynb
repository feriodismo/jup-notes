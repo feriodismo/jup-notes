{
 "cells": [
  {
   "cell_type": "markdown",
   "metadata": {},
   "source": [
    "#### Distribuciones Binomiales ####"
   ]
  },
  {
   "cell_type": "markdown",
   "metadata": {},
   "source": [
    "Las variables aleatorias, exigen siempre unos parametros para detectar la probabilidad cuando este entra en su funciones.<br>\n",
    "Estos parametros tienen que cumplir unas ciertas normas, al cumplir estas normas se podria decir que los datos a los que se quiere analizar las probabilidades entran dentro de esta distribucion.<br>\n",
    "Los parametros para una distribucion binomial son los siguientes:<br>\n",
    "    -"
   ]
  },
  {
   "cell_type": "code",
   "execution_count": 101,
   "metadata": {},
   "outputs": [
    {
     "name": "stdout",
     "output_type": "stream",
     "text": [
      "7.444834157690689e-05\n",
      "7.444834157690689e-05\n"
     ]
    }
   ],
   "source": [
    "import math as m\n",
    "x = 20\n",
    "p = 1/6\n",
    "N = 51\n",
    "\n",
    "def binomial(x, p, N):\n",
    "    return (m.factorial(N))/(m.factorial(x)*m.factorial(N-x))*(p**x)*((1-p)**(N-x))\n",
    "print(binomial(x, p, N))\n",
    "def binomial_dist(x, p, N):\n",
    "    data = []\n",
    "    X = list(np.arange(0, N))\n",
    "    for x in X:\n",
    "        data.append((m.factorial(N))/(m.factorial(x)*m.factorial(N-x))*(p**x)*((1-p)**(N-x)))\n",
    "    return data\n",
    "print(binomial_dist(x, p, N)[20])"
   ]
  }
 ],
 "metadata": {
  "kernelspec": {
   "display_name": "Python 3",
   "language": "python",
   "name": "python3"
  },
  "language_info": {
   "codemirror_mode": {
    "name": "ipython",
    "version": 3
   },
   "file_extension": ".py",
   "mimetype": "text/x-python",
   "name": "python",
   "nbconvert_exporter": "python",
   "pygments_lexer": "ipython3",
   "version": "3.7.8"
  }
 },
 "nbformat": 4,
 "nbformat_minor": 4
}
