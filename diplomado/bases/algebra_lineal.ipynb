{
 "cells": [
  {
   "cell_type": "markdown",
   "metadata": {},
   "source": [
    "**Conceptos basicos de algebra lineal**\n",
    "\n",
    "https://numpy.org/doc/stable/reference/routines.array-creation.html *rutinas para crear np.arrays*"
   ]
  },
  {
   "cell_type": "markdown",
   "metadata": {},
   "source": [
    "-Escalares, Vectores, Matrices, Tensores"
   ]
  },
  {
   "cell_type": "markdown",
   "metadata": {},
   "source": [
    "Los **escalares** son simplemente un numero, que usualmente contienen arreglos de muchos numeros. Se suele escribir en formato *italica*, y como nombre de variable se suele colocar una letra en minuscula."
   ]
  },
  {
   "cell_type": "code",
   "execution_count": 39,
   "metadata": {},
   "outputs": [],
   "source": [
    "import numpy as np\n",
    "import random as random\n",
    "random.seed(1)"
   ]
  },
  {
   "cell_type": "code",
   "execution_count": 40,
   "metadata": {},
   "outputs": [
    {
     "name": "stdout",
     "output_type": "stream",
     "text": [
      "la dimension de \"s\" es: 0, al igual que el de \"n\"\n",
      "el tamaño de \"n\" es: 1, al igual que el de \"s\"\n",
      "los escalares entonces son <class 'numpy.ndarray'> de 0 dimension, sin forma, y de tamaño 1\n"
     ]
    }
   ],
   "source": [
    "# ejemplo de un escalar\n",
    "s = np.array(-1) # se suele definir con 's' cuando es un numero real (s = ± ∞)\n",
    "n = np.array(3) # se suele definir con 'n' cuando es un numero natural (n > 0)\n",
    "print('la dimension de \"s\" es: {}, al igual que el de \"n\"'.format(s.ndim))\n",
    "print('el tamaño de \"n\" es: {}, al igual que el de \"s\"'.format(n.size))\n",
    "print('los escalares entonces son {} de 0 dimension, sin forma, y de tamaño 1'.format(type(n)))"
   ]
  },
  {
   "cell_type": "markdown",
   "metadata": {},
   "source": [
    "***\n",
    "Los **vectores** son una matriz de 1 dimension (array de numeros), normalmente estas variables se suelen nombrar tambien con minusculas, y se suele anotar en los papers en ***italica y negrita*** por ejemplo ***x***"
   ]
  },
  {
   "cell_type": "code",
   "execution_count": 41,
   "metadata": {},
   "outputs": [
    {
     "name": "stdout",
     "output_type": "stream",
     "text": [
      "la dimension de \"x\" es: 1\n",
      "el tamaño de \"x\" es: 5\n",
      "los vectores entonces son <class 'numpy.ndarray'> de 1 dimension, con variables formas ((5,)), y de tamaño (5) variables\n"
     ]
    }
   ],
   "source": [
    "# ejemplo de un vector\n",
    "x = np.array([1, 2, 3, 4, 5])\n",
    "print('la dimension de \"x\" es: {}'.format(x.ndim))\n",
    "print('el tamaño de \"x\" es: {}'.format(x.size))\n",
    "print('los vectores entonces son {} de {} dimension, con variables formas ({}), y de tamaño ({}) variables'.format(type(x), x.ndim, x.shape, x.size))"
   ]
  },
  {
   "cell_type": "markdown",
   "metadata": {},
   "source": [
    "***\n",
    "Las **matrices** son arrays de 2 dimensiones (*axes*), cada elemento dentro de la matriz es identificado con dos indices. Las variables se suelen llamar con mayusculas. En los papers se denotan en mayusculas, italicas y negritas (***X***)"
   ]
  },
  {
   "cell_type": "code",
   "execution_count": 43,
   "metadata": {},
   "outputs": [
    {
     "name": "stdout",
     "output_type": "stream",
     "text": [
      "[[1. 1. 1.]\n",
      " [1. 1. 1.]]\n",
      "la dimension de \"X\" es: 2\n",
      "el tamaño de \"X\" es: 6\n",
      "los vectores entonces son <class 'numpy.ndarray'> de 2 dimensiones, con variables formas ((2, 3)), y de tamaño (6) variables\n"
     ]
    }
   ],
   "source": [
    "# ejemplo de una matriz\n",
    "X = np.ones((2, 3)) # en este caso cree una matriz cuya forma es de 2 filas y 3 columnas\n",
    "print(X)\n",
    "print('la dimension de \"X\" es: {}'.format(X.ndim))\n",
    "print('el tamaño de \"X\" es: {}'.format(X.size))\n",
    "print('los vectores entonces son {} de {} dimensiones, con variables formas ({}), y de tamaño ({}) variables'.format(type(X), X.ndim, X.shape, X.size))"
   ]
  },
  {
   "cell_type": "markdown",
   "metadata": {},
   "source": [
    "***\n",
    "Los **tensores** son arrays de mas de 2 dimensiones. Se denota en los papers en mayusculas, sin italicas, y en negritas (**A**)"
   ]
  },
  {
   "cell_type": "code",
   "execution_count": 49,
   "metadata": {},
   "outputs": [
    {
     "name": "stdout",
     "output_type": "stream",
     "text": [
      "[[[3 3]\n",
      "  [3 3]\n",
      "  [3 3]]\n",
      "\n",
      " [[3 3]\n",
      "  [3 3]\n",
      "  [3 3]]]\n",
      "la dimension de \"T\" es: 3\n",
      "el tamaño de \"T\" es: 12\n",
      "los vectores entonces son <class 'numpy.ndarray'> de 3 dimensiones, con variables formas ((2, 3, 2)), y de tamaño (12) variables\n"
     ]
    }
   ],
   "source": [
    "T = np.full((2, 3, 2), 3)\n",
    "print(T)\n",
    "print('la dimension de \"T\" es: {}'.format(T.ndim))\n",
    "print('el tamaño de \"T\" es: {}'.format(T.size))\n",
    "print('los vectores entonces son {} de {} dimensiones, con variables formas ({}), y de tamaño ({}) variables'.format(type(T), T.ndim, T.shape, T.size))"
   ]
  },
  {
   "cell_type": "markdown",
   "metadata": {},
   "source": [
    "***\n",
    "Otro concepto importante para los arrays se puede decir que es la transferencia, esto hace que la matriz se voltee desde la diagonal principal (top izq a btn der) y se denota con una \"T\"\n",
    "\n",
    "\n",
    "$A$  as $A^T$ \n",
    "\n",
    "La formula es la siguiente: \n",
    "\n",
    "$(A^T)_{i,j} = A_{i,j}$\n"
   ]
  },
  {
   "cell_type": "markdown",
   "metadata": {},
   "source": [
    "***\n",
    "**El caso en las matrices ndim = 2**"
   ]
  },
  {
   "cell_type": "code",
   "execution_count": 71,
   "metadata": {},
   "outputs": [
    {
     "name": "stdout",
     "output_type": "stream",
     "text": [
      "[[1 8]\n",
      " [5 4]\n",
      " [7 6]\n",
      " [9 4]\n",
      " [7 0]]\n",
      "[[1 5 7 9 7]\n",
      " [8 4 6 4 0]]\n",
      "[[ 2  3  4]\n",
      " [ 5  6  7]\n",
      " [ 8  9 10]]\n",
      "[[ 2  5  8]\n",
      " [ 3  6  9]\n",
      " [ 4  7 10]]\n"
     ]
    }
   ],
   "source": [
    "# vamos a aplicar la formula a una matriz de dos dimensiones con datos generados al azar\n",
    "R = np.random.randint(0, high=10, size=(5,2))\n",
    "print(R)\n",
    "RT = np.transpose(R)\n",
    "print(RT)\n",
    "# haciendo un test para verificar si entendi el concepto y como se opera este\n",
    "R_wb = np.array([[2, 3, 4], [5, 6, 7], [8, 9, 10]])\n",
    "print(R_wb)\n",
    "RT_wb = np.transpose(R_wb)\n",
    "print(RT_wb)"
   ]
  },
  {
   "cell_type": "markdown",
   "metadata": {},
   "source": [
    "***\n",
    "**El caso en las tensores ndim = 3**"
   ]
  },
  {
   "cell_type": "code",
   "execution_count": 96,
   "metadata": {},
   "outputs": [
    {
     "name": "stdout",
     "output_type": "stream",
     "text": [
      "(2, 3, 4)\n",
      "94\n",
      "94\n"
     ]
    }
   ],
   "source": [
    "# vamos a aplicar la formula a una matriz de tres dimensiones con datos generados al azar\n",
    "TT = np.random.randint(0, high=10, size=(5,2,2))\n",
    "# print(TT)\n",
    "TTT = np.transpose(TT)\n",
    "# print(TTT)\n",
    "# haciendo un test para verificar si entendi el concepto y como se opera este\n",
    "TT_wb = np.array([[[2, 3, 4, 90], [5, 6, 7, 91], [10, 11, 12, 92]], [[13, 14, 15, 93], [16, 17, 18, 94], [19, 20, 21, 95]]])\n",
    "# print(TT_wb)\n",
    "print(TT_wb.shape)\n",
    "print(TT_wb[1][1][3])\n",
    "# probando con tensores\n",
    "TTT_wb = np.transpose(TT_wb)\n",
    "# print(TTT_wb)\n",
    "print(TTT_wb[3][1][1])\n",
    "\n",
    "# en el caso de los tensores de 3 diemensiones nos podemos dar cuenta que cuando se hace una transposicion se hace de la siguinte manera, manteniendo la dimension\n",
    "# de las filas de forma intacta e intercambiando la dimensiones de la columna y tensor, pienso que esta funcion nos podria funcionar para el tratamiento de las \n",
    "# imagenes."
   ]
  },
  {
   "cell_type": "markdown",
   "metadata": {},
   "source": [
    "***\n",
    "**El caso en las vectores y escalares ndim = 1, ndim = 0**"
   ]
  },
  {
   "cell_type": "code",
   "execution_count": 108,
   "metadata": {},
   "outputs": [
    {
     "name": "stdout",
     "output_type": "stream",
     "text": [
      "[1 1 1]\n",
      "[1 1 1]\n",
      "-1\n",
      "-1\n"
     ]
    }
   ],
   "source": [
    "v = np.random.randint(0, high = 3, size = (3))\n",
    "vT = np.transpose(v)\n",
    "print(v)\n",
    "print(vT)\n",
    "\n",
    "# escalar ya definido\n",
    "print(s)\n",
    "sT = np.transpose(s)\n",
    "print(s)"
   ]
  },
  {
   "cell_type": "markdown",
   "metadata": {},
   "source": [
    "***\n",
    "**Operaciones basicas entre matrices**\n",
    "\n",
    "La suma entre matrices se puede hacer sin ningun problema, siempre y cuando ambas matrices tengan la misma forma\n",
    "A.ndim = n\n",
    "B.ndim = n\n",
    "\n",
    "***C*** = ***A***+***B***\n",
    "\n",
    "$C_{i,j} = A_{i,j} + B_{i,j}$\n",
    "\n",
    "*ValueError: operands could not be broadcast together with shapes (2,3) (2,4)* (error cuando se opera matrices de diferente forma)"
   ]
  },
  {
   "cell_type": "code",
   "execution_count": 115,
   "metadata": {},
   "outputs": [
    {
     "name": "stdout",
     "output_type": "stream",
     "text": [
      "[[6 7 6]\n",
      " [5 7 2]]\n"
     ]
    }
   ],
   "source": [
    "# suma entre matrices de la misma dimension\n",
    "A = np.random.randint(1, high=6, size=(2, 3))\n",
    "B = np.random.randint(1, high=6, size=(2, 3))\n",
    "C = A+B\n",
    "print(C)"
   ]
  },
  {
   "cell_type": "markdown",
   "metadata": {},
   "source": [
    "***\n",
    "Tambien se pueden operar sumando una matriz con un escalar (el escalar afectara a cada uno de los elementos de la matriz)\n",
    "\n",
    "D = A + b\n",
    "\n",
    "$C_{i,j} = A_{i,j} + b$\n",
    "\n",
    "Como tambien se puede multiplicar por un escalar\n",
    "\n",
    "$E_{i,j} = A_{i,j} * b$"
   ]
  },
  {
   "cell_type": "code",
   "execution_count": 125,
   "metadata": {},
   "outputs": [
    {
     "name": "stdout",
     "output_type": "stream",
     "text": [
      "[[4 3 5]\n",
      " [4 2 1]]\n",
      "[[7 6 8]\n",
      " [7 5 4]]\n",
      "[[12  9 15]\n",
      " [12  6  3]]\n",
      "[[[3. 3. 3. 3. 3.]\n",
      "  [3. 3. 3. 3. 3.]]\n",
      "\n",
      " [[3. 3. 3. 3. 3.]\n",
      "  [3. 3. 3. 3. 3.]]\n",
      "\n",
      " [[3. 3. 3. 3. 3.]\n",
      "  [3. 3. 3. 3. 3.]]]\n"
     ]
    }
   ],
   "source": [
    "# sumando una matriz por un escalar\n",
    "D = A + 3\n",
    "print(A)\n",
    "print(D)\n",
    "\n",
    "# multiplicando una  matriz por un escalar\n",
    "E = A * 3\n",
    "print(E)\n",
    "\n",
    "# lo mismo pasa con los tensores\n",
    "T = np.ones((3, 2, 5))\n",
    "print(T*3)"
   ]
  },
  {
   "cell_type": "markdown",
   "metadata": {},
   "source": [
    "***\n",
    "**Broadcastin** es un concepto que se usa en el aprendizaje profundo, que se logra sumando un vector en una matriz, basicamente el vector que tiene que tener la forma al igual que la columna de la matriz "
   ]
  },
  {
   "cell_type": "code",
   "execution_count": 134,
   "metadata": {},
   "outputs": [
    {
     "name": "stdout",
     "output_type": "stream",
     "text": [
      "[1 1 2]\n",
      "[[7 8 8]\n",
      " [6 8 4]]\n"
     ]
    }
   ],
   "source": [
    "# ingresando un vector en una matriz de dos dimensiones\n",
    "v = np.random.randint(1, 3,(3))\n",
    "print(v)\n",
    "F = C+v\n",
    "print(F)"
   ]
  },
  {
   "cell_type": "code",
   "execution_count": null,
   "metadata": {},
   "outputs": [],
   "source": []
  }
 ],
 "metadata": {
  "kernelspec": {
   "display_name": "Python 3",
   "language": "python",
   "name": "python3"
  },
  "language_info": {
   "codemirror_mode": {
    "name": "ipython",
    "version": 3
   },
   "file_extension": ".py",
   "mimetype": "text/x-python",
   "name": "python",
   "nbconvert_exporter": "python",
   "pygments_lexer": "ipython3",
   "version": "3.7.8"
  }
 },
 "nbformat": 4,
 "nbformat_minor": 4
}
