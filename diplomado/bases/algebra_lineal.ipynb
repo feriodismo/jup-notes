{
 "cells": [
  {
   "cell_type": "markdown",
   "metadata": {},
   "source": []
  },
  {
   "cell_type": "markdown",
   "metadata": {},
   "source": [
    "**Conceptos basicos de algebra lineal**\n",
    "\n",
    "https://numpy.org/doc/stable/reference/routines.array-creation.html *rutinas para crear np.arrays*"
   ]
  },
  {
   "cell_type": "markdown",
   "metadata": {},
   "source": [
    "-Escalares, Vectores, Matrices, Tensores"
   ]
  },
  {
   "cell_type": "markdown",
   "metadata": {},
   "source": [
    "Los **escalares** son simplemente un numero, que usualmente contienen arreglos de muchos numeros. Se suele escribir en formato *italica*, y como nombre de variable se suele colocar una letra en minuscula."
   ]
  },
  {
   "cell_type": "code",
   "execution_count": 2,
   "metadata": {},
   "outputs": [],
   "source": [
    "import numpy as np\n",
    "random.seed(1)"
   ]
  },
  {
   "cell_type": "code",
   "execution_count": 3,
   "metadata": {},
   "outputs": [
    {
     "name": "stdout",
     "output_type": "stream",
     "text": [
      "la dimension de \"s\" es: 0, al igual que el de \"n\"\n",
      "el tamaño de \"n\" es: 1, al igual que el de \"s\"\n",
      "los escalares entonces son <class 'numpy.ndarray'> de 0 dimension, sin forma, y de tamaño 1\n"
     ]
    }
   ],
   "source": [
    "# ejemplo de un escalar\n",
    "s = np.array(-1) # se suele definir con 's' cuando es un numero real (s = ± ∞)\n",
    "n = np.array(3) # se suele definir con 'n' cuando es un numero natural (n > 0)\n",
    "print('la dimension de \"s\" es: {}, al igual que el de \"n\"'.format(s.ndim))\n",
    "print('el tamaño de \"n\" es: {}, al igual que el de \"s\"'.format(n.size))\n",
    "print('los escalares entonces son {} de 0 dimension, sin forma, y de tamaño 1'.format(type(n)))"
   ]
  },
  {
   "cell_type": "markdown",
   "metadata": {},
   "source": [
    "***\n",
    "Los **vectores** son una matriz de 1 dimension (array de numeros), normalmente estas variables se suelen nombrar tambien con minusculas, y se suele anotar en los papers en ***italica y negrita*** por ejemplo ***x***"
   ]
  },
  {
   "cell_type": "code",
   "execution_count": 4,
   "metadata": {},
   "outputs": [
    {
     "name": "stdout",
     "output_type": "stream",
     "text": [
      "la dimension de \"x\" es: 1\n",
      "el tamaño de \"x\" es: 5\n",
      "los vectores entonces son <class 'numpy.ndarray'> de 1 dimension, con variables formas ((5,)), y de tamaño (5) variables\n"
     ]
    }
   ],
   "source": [
    "# ejemplo de un vector\n",
    "x = np.array([1, 2, 3, 4, 5])\n",
    "print('la dimension de \"x\" es: {}'.format(x.ndim))\n",
    "print('el tamaño de \"x\" es: {}'.format(x.size))\n",
    "print('los vectores entonces son {} de {} dimension, con variables formas ({}), y de tamaño ({}) variables'.format(type(x), x.ndim, x.shape, x.size))"
   ]
  },
  {
   "cell_type": "markdown",
   "metadata": {},
   "source": [
    "***\n",
    "Las **matrices** son arrays de 2 dimensiones (*axes*), cada elemento dentro de la matriz es identificado con dos indices. Las variables se suelen llamar con mayusculas. En los papers se denotan en mayusculas, italicas y negritas (***X***)"
   ]
  },
  {
   "cell_type": "code",
   "execution_count": 5,
   "metadata": {},
   "outputs": [
    {
     "name": "stdout",
     "output_type": "stream",
     "text": [
      "[[1. 1. 1.]\n",
      " [1. 1. 1.]]\n",
      "la dimension de \"X\" es: 2\n",
      "el tamaño de \"X\" es: 6\n",
      "los vectores entonces son <class 'numpy.ndarray'> de 2 dimensiones, con variables formas ((2, 3)), y de tamaño (6) variables\n"
     ]
    }
   ],
   "source": [
    "# ejemplo de una matriz\n",
    "X = np.ones((2, 3)) # en este caso cree una matriz cuya forma es de 2 filas y 3 columnas\n",
    "print(X)\n",
    "print('la dimension de \"X\" es: {}'.format(X.ndim))\n",
    "print('el tamaño de \"X\" es: {}'.format(X.size))\n",
    "print('los vectores entonces son {} de {} dimensiones, con variables formas ({}), y de tamaño ({}) variables'.format(type(X), X.ndim, X.shape, X.size))"
   ]
  },
  {
   "cell_type": "markdown",
   "metadata": {},
   "source": [
    "***\n",
    "Los **tensores** son arrays de mas de 2 dimensiones. Se denota en los papers en mayusculas, sin italicas, y en negritas (**A**)"
   ]
  },
  {
   "cell_type": "code",
   "execution_count": 6,
   "metadata": {},
   "outputs": [
    {
     "name": "stdout",
     "output_type": "stream",
     "text": [
      "[[[3 3]\n",
      "  [3 3]\n",
      "  [3 3]]\n",
      "\n",
      " [[3 3]\n",
      "  [3 3]\n",
      "  [3 3]]]\n",
      "la dimension de \"T\" es: 3\n",
      "el tamaño de \"T\" es: 12\n",
      "los vectores entonces son <class 'numpy.ndarray'> de 3 dimensiones, con variables formas ((2, 3, 2)), y de tamaño (12) variables\n"
     ]
    }
   ],
   "source": [
    "T = np.full((2, 3, 2), 3)\n",
    "print(T)\n",
    "print('la dimension de \"T\" es: {}'.format(T.ndim))\n",
    "print('el tamaño de \"T\" es: {}'.format(T.size))\n",
    "print('los vectores entonces son {} de {} dimensiones, con variables formas ({}), y de tamaño ({}) variables'.format(type(T), T.ndim, T.shape, T.size))"
   ]
  },
  {
   "cell_type": "markdown",
   "metadata": {},
   "source": [
    "***\n",
    "Otro concepto importante para los arrays se puede decir que es la transferencia, esto hace que la matriz se voltee desde la diagonal principal (top izq a btn der) y se denota con una \"T\"\n",
    "\n",
    "\n",
    "$A$  as $A^T$ \n",
    "\n",
    "La formula es la siguiente: \n",
    "\n",
    "$(A^T)_{i,j} = A_{i,j}$\n"
   ]
  },
  {
   "cell_type": "markdown",
   "metadata": {},
   "source": [
    "***\n",
    "**El caso en las matrices ndim = 2**"
   ]
  },
  {
   "cell_type": "code",
   "execution_count": 7,
   "metadata": {},
   "outputs": [
    {
     "name": "stdout",
     "output_type": "stream",
     "text": [
      "[[0 1]\n",
      " [6 8]\n",
      " [3 6]\n",
      " [7 9]\n",
      " [1 9]]\n",
      "[[0 6 3 7 1]\n",
      " [1 8 6 9 9]]\n",
      "[[ 2  3  4]\n",
      " [ 5  6  7]\n",
      " [ 8  9 10]]\n",
      "[[ 2  5  8]\n",
      " [ 3  6  9]\n",
      " [ 4  7 10]]\n"
     ]
    }
   ],
   "source": [
    "# vamos a aplicar la formula a una matriz de dos dimensiones con datos generados al azar\n",
    "R = np.random.randint(0, high=10, size=(5,2))\n",
    "print(R)\n",
    "RT = np.transpose(R)\n",
    "print(RT)\n",
    "# haciendo un test para verificar si entendi el concepto y como se opera este\n",
    "R_wb = np.array([[2, 3, 4], [5, 6, 7], [8, 9, 10]])\n",
    "print(R_wb)\n",
    "RT_wb = np.transpose(R_wb)\n",
    "print(RT_wb)"
   ]
  },
  {
   "cell_type": "markdown",
   "metadata": {},
   "source": [
    "***\n",
    "**El caso en las tensores ndim = 3**"
   ]
  },
  {
   "cell_type": "code",
   "execution_count": 8,
   "metadata": {},
   "outputs": [
    {
     "name": "stdout",
     "output_type": "stream",
     "text": [
      "(2, 3, 4)\n",
      "94\n",
      "94\n"
     ]
    }
   ],
   "source": [
    "# vamos a aplicar la formula a una matriz de tres dimensiones con datos generados al azar\n",
    "TT = np.random.randint(0, high=10, size=(5,2,2))\n",
    "# print(TT)\n",
    "TTT = np.transpose(TT)\n",
    "# print(TTT)\n",
    "# haciendo un test para verificar si entendi el concepto y como se opera este\n",
    "TT_wb = np.array([[[2, 3, 4, 90], [5, 6, 7, 91], [10, 11, 12, 92]], [[13, 14, 15, 93], [16, 17, 18, 94], [19, 20, 21, 95]]])\n",
    "# print(TT_wb)\n",
    "print(TT_wb.shape)\n",
    "print(TT_wb[1][1][3])\n",
    "# probando con tensores\n",
    "TTT_wb = np.transpose(TT_wb)\n",
    "# print(TTT_wb)\n",
    "print(TTT_wb[3][1][1])\n",
    "\n",
    "# en el caso de los tensores de 3 diemensiones nos podemos dar cuenta que cuando se hace una transposicion se hace de la siguinte manera, manteniendo la dimension\n",
    "# de las filas de forma intacta e intercambiando la dimensiones de la columna y tensor, pienso que esta funcion nos podria funcionar para el tratamiento de las \n",
    "# imagenes."
   ]
  },
  {
   "cell_type": "markdown",
   "metadata": {},
   "source": [
    "***\n",
    "**El caso en las vectores y escalares ndim = 1, ndim = 0**"
   ]
  },
  {
   "cell_type": "code",
   "execution_count": 9,
   "metadata": {},
   "outputs": [
    {
     "name": "stdout",
     "output_type": "stream",
     "text": [
      "[1 2 1]\n",
      "[1 2 1]\n",
      "-1\n",
      "-1\n"
     ]
    }
   ],
   "source": [
    "v = np.random.randint(0, high = 3, size = (3))\n",
    "vT = np.transpose(v)\n",
    "print(v)\n",
    "print(vT)\n",
    "\n",
    "# escalar ya definido\n",
    "print(s)\n",
    "sT = np.transpose(s)\n",
    "print(s)"
   ]
  },
  {
   "cell_type": "markdown",
   "metadata": {},
   "source": [
    "***\n",
    "**Operaciones basicas entre matrices**\n",
    "\n",
    "La suma entre matrices se puede hacer sin ningun problema, siempre y cuando ambas matrices tengan la misma forma\n",
    "A.ndim = n\n",
    "B.ndim = n\n",
    "\n",
    "***C*** = ***A***+***B***\n",
    "\n",
    "$C_{i,j} = A_{i,j} + B_{i,j}$\n",
    "\n",
    "*ValueError: operands could not be broadcast together with shapes (2,3) (2,4)* (error cuando se opera matrices de diferente forma)"
   ]
  },
  {
   "cell_type": "code",
   "execution_count": 10,
   "metadata": {},
   "outputs": [
    {
     "name": "stdout",
     "output_type": "stream",
     "text": [
      "[[7 7 8]\n",
      " [8 8 6]]\n"
     ]
    }
   ],
   "source": [
    "# suma entre matrices de la misma dimension\n",
    "A = np.random.randint(1, high=6, size=(2, 3))\n",
    "B = np.random.randint(1, high=6, size=(2, 3))\n",
    "C = A+B\n",
    "print(C)"
   ]
  },
  {
   "cell_type": "markdown",
   "metadata": {},
   "source": [
    "***\n",
    "Tambien se pueden operar sumando una matriz con un escalar (el escalar afectara a cada uno de los elementos de la matriz)\n",
    "\n",
    "D = A + b\n",
    "\n",
    "$C_{i,j} = A_{i,j} + b$\n",
    "\n",
    "Como tambien se puede multiplicar por un escalar\n",
    "\n",
    "$E_{i,j} = A_{i,j} * b$"
   ]
  },
  {
   "cell_type": "code",
   "execution_count": 11,
   "metadata": {},
   "outputs": [
    {
     "name": "stdout",
     "output_type": "stream",
     "text": [
      "[[5 4 4]\n",
      " [5 4 1]]\n",
      "[[8 7 7]\n",
      " [8 7 4]]\n",
      "[[15 12 12]\n",
      " [15 12  3]]\n",
      "[[[3. 3. 3. 3. 3.]\n",
      "  [3. 3. 3. 3. 3.]]\n",
      "\n",
      " [[3. 3. 3. 3. 3.]\n",
      "  [3. 3. 3. 3. 3.]]\n",
      "\n",
      " [[3. 3. 3. 3. 3.]\n",
      "  [3. 3. 3. 3. 3.]]]\n"
     ]
    }
   ],
   "source": [
    "# sumando una matriz por un escalar\n",
    "D = A + 3\n",
    "print(A)\n",
    "print(D)\n",
    "\n",
    "# multiplicando una  matriz por un escalar\n",
    "E = A * 3\n",
    "print(E)\n",
    "\n",
    "# lo mismo pasa con los tensores\n",
    "T = np.ones((3, 2, 5))\n",
    "print(T*3)"
   ]
  },
  {
   "cell_type": "markdown",
   "metadata": {},
   "source": [
    "***\n",
    "**Broadcasting** es un concepto que se usa en el aprendizaje profundo, que se logra sumando un vector en una matriz, basicamente el vector que tiene que tener la forma al igual que la columna de la matriz "
   ]
  },
  {
   "cell_type": "code",
   "execution_count": 12,
   "metadata": {},
   "outputs": [
    {
     "name": "stdout",
     "output_type": "stream",
     "text": [
      "[2 2 2]\n",
      "[[ 9  9 10]\n",
      " [10 10  8]]\n"
     ]
    }
   ],
   "source": [
    "# ingresando un vector en una matriz de dos dimensiones\n",
    "v = np.random.randint(1, 3,(3))\n",
    "print(v)\n",
    "F = C+v\n",
    "print(F)"
   ]
  },
  {
   "cell_type": "markdown",
   "metadata": {},
   "source": [
    "***\n",
    "**Multuplicando matricez** El producto de la matriz A con la matriz B es una tercera matriz llamada C. Para esto la matriz A tiene que tener el mismo numero de columnas que filas de la matriz B. Si la matriz A es de forma m x n entonces la matriz B tiene que ser de forma n x p, quedando entonces la matriz C de forma m x p. La operacion de la matriz seria entonces:\n",
    "\n",
    "$C_{i, j} = \\sum_{k}A_{i, k}B_{k, j}$\n",
    "\n",
    "donde k seria entonces la columna de A y la fila de B"
   ]
  },
  {
   "cell_type": "code",
   "execution_count": 28,
   "metadata": {},
   "outputs": [
    {
     "name": "stdout",
     "output_type": "stream",
     "text": [
      "[[103 172]\n",
      " [198 272]\n",
      " [117 168]]\n"
     ]
    }
   ],
   "source": [
    "# testeo de la formula\n",
    "A = np.array([[2, 3, 7], [8, 10, 8], [3, 7, 5]])\n",
    "A.shape\n",
    "B = np.array([[6, 4], [7, 8], [10, 20]])\n",
    "B.shape\n",
    "C = np.matmul(A, B)\n",
    "print(C)"
   ]
  },
  {
   "cell_type": "markdown",
   "metadata": {},
   "source": [
    "Para hacer esta operacion me tome la tarea de hacer una reduccion logica para lograr entenderla. El punto clave es entender la variable k, y que le pertence a cada matriz.<br>\n",
    "La variable k tiene que ser la columna de la matriz de la izquierda, y la fila de la matriz de la derecha, y deberian tener la misma cantidad de elementos.<br>\n",
    "Trazo una linea direccional, ya que al fin y al cabo se intenta buscar el producto punto de el vector $k_{1}$ de la matriz de la izquierda y el producto $\\mathbf{k}^\\intercal_{1}$ de la matriz de la derecha y asi consecutivamente cuando k llegue a n"
   ]
  },
  {
   "cell_type": "markdown",
   "metadata": {},
   "source": [
    "***\n",
    "**Matriz Indentidad**<br>\n",
    "Tanto como en las operaciones de multiplicacion de escalares, para que el resultado nos otorga el mismo valor del escalar tiene que ser multiplicado por uno, entedemos como identidad en las matrices un matriz que multiplicada por la matriz identidad nos otorgue la misma matriz.<br>\n",
    "Para obtener esto hay que detectar cual es la matriz identidad y esta no es mas que una matriz cuadrada donde la diagonal principal esta conformada con puros unos y el resto de los elementos por 0.<br>\n",
    "Es cuadrada porque si nos basamos en la teoria de que (m, n) x (n, l) = (m, l), vemos que si queremos obtener IxB = B, (y, z) x (m x l) = (m, l). z = m ; y = m, por la tanto I es una matriz cuadrada.<br>\n",
    "se denota de la siguiente manera:<br>\n",
    "$I_{n}$"
   ]
  },
  {
   "cell_type": "code",
   "execution_count": 41,
   "metadata": {},
   "outputs": [
    {
     "name": "stdout",
     "output_type": "stream",
     "text": [
      "[[1. 0. 0.]\n",
      " [0. 1. 0.]\n",
      " [0. 0. 1.]]\n",
      "[[20 66 94 56 61 65 96]\n",
      " [64 68  3 45 80 11 41]\n",
      " [40 25 95 15  4 15 50]\n",
      " [39 75 91 83 86 65 82]\n",
      " [84 98 20 33 65 32 51]\n",
      " [40 39 56 79 64 44 15]\n",
      " [44 81 86 25 58 58 12]\n",
      " [32 90 19  8 99  9 10]\n",
      " [91 42 87 51 45 58 38]\n",
      " [23 14 65 79  6 79 86]\n",
      " [97 76 94 92 70 76 67]\n",
      " [11 19 28 94 66 67 45]\n",
      " [17 68 34 14 14  7 42]\n",
      " [45 83 20 68 93 14 29]]\n",
      "(14, 14)\n"
     ]
    }
   ],
   "source": [
    "# instanciando una matriz identidad\n",
    "I = np.identity(3)\n",
    "print(I)\n",
    "# si queremos la matriz identidad de una matriz cualquier hacemos esta operacion logica\n",
    "M = np.random.randint(1, 100, (14, 7))\n",
    "print(M)\n",
    "IM = np.identity(M.shape[0])\n",
    "print(IM.shape)"
   ]
  },
  {
   "cell_type": "code",
   "execution_count": null,
   "metadata": {},
   "outputs": [],
   "source": []
  }
 ],
 "metadata": {
  "kernelspec": {
   "display_name": "Python 3",
   "language": "python",
   "name": "python3"
  },
  "language_info": {
   "codemirror_mode": {
    "name": "ipython",
    "version": 3
   },
   "file_extension": ".py",
   "mimetype": "text/x-python",
   "name": "python",
   "nbconvert_exporter": "python",
   "pygments_lexer": "ipython3",
   "version": "3.7.8"
  }
 },
 "nbformat": 4,
 "nbformat_minor": 4
}
