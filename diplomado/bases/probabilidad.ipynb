{
 "cells": [
  {
   "cell_type": "markdown",
   "metadata": {},
   "source": [
    "**Conceptos basicos de probabilidad**"
   ]
  },
  {
   "cell_type": "markdown",
   "metadata": {},
   "source": [
    "¿Que es un conjunto?<br>\n",
    "*En matemáticas, un conjunto es una colección de elementos con características similares considerada en sí misma como un objeto*<br>\n",
    "https://es.wikipedia.org/wiki/Conjunto\n",
    "\n",
    "¿Un espacio muestra es un conjunto?<br>\n",
    "*En la teoría de probabilidades, el espacio muestral o espacio de muestreo (denotado E, S, Ω o U) consiste en el conjunto de todos los posibles resultados de un experimento aleatorio, junto con una estructura sobre el mismo (ver más adelante).*<br>\n",
    "https://es.wikipedia.org/wiki/Espacio_muestral\n",
    "\n",
    "Uno de los terminos basicos de la probabilidad es la medida que es la totalidad de los elementos de un conjunto y se denota con: <br>\"$M$\"<br>\n",
    "Entonces entiendo que la funcion base de la probabilidad de un subconjunto es la cantidad total de sus elementos dividido a la medida<br>\n",
    "$Prob[subconjunto] = len(subconjunto) / M$<br>\n",
    "En el caso de los dados, tenemos los subcojunto: <br>\n",
    "1. numero pares\n",
    "2. numero impares\n",
    "\n",
    "Sus probabilidades seran de 3/6 respectivamente, ya que hay 3 posbiles numeros pares y 3 posibles numeros impares de un conjunto cuya medida (totalidad de sus elementos es de 6)\n",
    "\n",
    "Entiendo que parte importante de los conjuntos o espacios muestrales son las operaciones de los subconjuntos, entonces a partir de esto surge la teoria de la probabilidad<br>"
   ]
  },
  {
   "cell_type": "markdown",
   "metadata": {},
   "source": [
    "***\n",
    "**Operaciones basicas de conjuntos**"
   ]
  },
  {
   "cell_type": "markdown",
   "metadata": {},
   "source": [
    "Union ($\\cup$)\n",
    "\n",
    "Una union de subconjunto no es mas que la suma de sus elementos con respecto a la medida del espacio muestral<br>\n",
    "Entonces se define de la siguiente manera: <br>\n",
    "$A\\cup B = A+B$<br>\n",
    "Siempre y cuando los conjuntos A y B sean disyuntivos (esto quiere decir que no tienen elementos en comun)<br>\n",
    "De lo contrario, nuestra logica nos indica que habria que substraer los elementos en comun para obtener el resultado de la union de conjuntos no disyuntivos<br>\n",
    "Tambien nuestra logica nos indica que si la substraccion de los elementos dan 0 (vacio) quiere decir que estos son disyuntivos<br>\n",
    "$A \\cap B = {{\\varnothing}}$"
   ]
  },
  {
   "cell_type": "code",
   "execution_count": null,
   "metadata": {},
   "outputs": [],
   "source": []
  }
 ],
 "metadata": {
  "kernelspec": {
   "display_name": "Python 3",
   "language": "python",
   "name": "python3"
  },
  "language_info": {
   "codemirror_mode": {
    "name": "ipython",
    "version": 3
   },
   "file_extension": ".py",
   "mimetype": "text/x-python",
   "name": "python",
   "nbconvert_exporter": "python",
   "pygments_lexer": "ipython3",
   "version": "3.7.8"
  }
 },
 "nbformat": 4,
 "nbformat_minor": 4
}
