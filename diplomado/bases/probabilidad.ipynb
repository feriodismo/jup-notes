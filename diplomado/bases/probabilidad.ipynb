{
 "cells": [
  {
   "cell_type": "markdown",
   "metadata": {},
   "source": [
    "**Conceptos basicos de probabilidad**"
   ]
  },
  {
   "cell_type": "markdown",
   "metadata": {},
   "source": [
    "¿Que es un conjunto?<br>\n",
    "*En matemáticas, un conjunto es una colección de elementos con características similares considerada en sí misma como un objeto*<br>\n",
    "https://es.wikipedia.org/wiki/Conjunto\n",
    "\n",
    "¿Un espacio muestra es un conjunto?<br>\n",
    "*En la teoría de probabilidades, el espacio muestral o espacio de muestreo (denotado E, S, Ω o U) consiste en el conjunto de todos los posibles resultados de un experimento aleatorio, junto con una estructura sobre el mismo (ver más adelante).*<br>\n",
    "https://es.wikipedia.org/wiki/Espacio_muestral\n",
    "\n",
    "Uno de los terminos basicos de la probabilidad es la medida que es la totalidad de los elementos de un conjunto y se denota con: <br>\"$M$\"<br>\n",
    "Entonces entiendo que la funcion base de la probabilidad de un subconjunto es la cantidad total de sus elementos dividido a la medida<br>\n",
    "$Prob[subconjunto] = len(subconjunto) / M$<br>\n",
    "En el caso de los dados, tenemos los subcojunto: <br>\n",
    "1. numero pares\n",
    "2. numero impares\n",
    "\n",
    "Sus probabilidades seran de 3/6 respectivamente, ya que hay 3 posbiles numeros pares y 3 posibles numeros impares de un conjunto cuya medida (totalidad de sus elementos es de 6)\n",
    "\n",
    "Entiendo que parte importante de los conjuntos o espacios muestrales son las operaciones de los subconjuntos, entonces a partir de esto surge la teoria de la probabilidad<br>"
   ]
  },
  {
   "cell_type": "markdown",
   "metadata": {},
   "source": [
    "***\n",
    "**Operaciones basicas de conjuntos**"
   ]
  },
  {
   "cell_type": "markdown",
   "metadata": {},
   "source": [
    "Union ($\\cup$)\n",
    "\n",
    "Una union de subconjunto no es mas que la suma de sus elementos con respecto a la medida del espacio muestral<br>\n",
    "Entonces se define de la siguiente manera: <br>\n",
    "$A\\cup B = A+B$<br>\n",
    "Siempre y cuando los conjuntos A y B sean disyuntivos (esto quiere decir que no tienen elementos en comun)<br>\n",
    "De lo contrario, nuestra logica nos indica que habria que substraer los elementos en comun para obtener el resultado de la union de conjuntos no disyuntivos<br>\n",
    "Tambien nuestra logica nos indica que si la substraccion de los elementos dan 0 (vacio) quiere decir que estos son disyuntivos<br>\n",
    "$A \\cap B = {{\\varnothing}}$\n",
    "Me lo imagino como un array de (numeros por ejemplo) A y otro array de numeros B. Y restamos ambos array, si el array resultante es vacio $\\varnothing$ esto quiere decir que son disyuntos por lo tanto se cumple la primera formula. Pero la primera formula deviene de la siguiente:\n",
    "\n",
    "$Prob[A\\cup B] = Prob[A]+Prob[B] - Prob[A\\cap B]$"
   ]
  },
  {
   "cell_type": "markdown",
   "metadata": {},
   "source": [
    "**Probando estas operaciones en python**<br>\n",
    "A set object is an unordered collection of distinct hashable objects. Common uses include membership testing, removing duplicates from a sequence, and computing mathematical operations such as intersection, union, difference, and symmetric difference. (For other containers see the built-in dict, list, and tuple classes, and the collections module.)"
   ]
  },
  {
   "cell_type": "code",
   "execution_count": 11,
   "metadata": {},
   "outputs": [
    {
     "name": "stdout",
     "output_type": "stream",
     "text": [
      "prob[AunionB]: 9/11\n",
      "[1, 2, 3, 4, 5, 6, 7, 8, 9] <class 'list'>\n"
     ]
    }
   ],
   "source": [
    "E = [1, 2, 3, 4, 5, 6, 7, 8, 9, 10, 11]\n",
    "A = [1, 2, 3, 4, 5, 6]\n",
    "B = [5, 6, 7, 8, 9]\n",
    "\n",
    "M = len(E)\n",
    "\n",
    "C = set(A).intersection(B)\n",
    "\n",
    "# esta funcion build-in ya nos hace la interseccion (cap) dentro de la funcion automaticamente\n",
    "T = set(A).union(B)\n",
    "print('prob[AunionB]: {}/{}'.format(len(T), M))\n",
    "\n",
    "# de esta forma convertimos el objeto set en list\n",
    "T = list(T)\n",
    "print(T, type(T))"
   ]
  },
  {
   "cell_type": "markdown",
   "metadata": {},
   "source": [
    "**Complemento**\n",
    "\n",
    "Como el nombre lo indica el complemento$A^c$ de un evento $A$, es un evento que contiene todos los elementos que no contiene el evento $A$.\n",
    "Entonces si tenemos un espacio muestral: $E = [1, 2, 3, 4, 5, 6]$, donde $A$ son los numeros pares, tenemos que el evento $A$ contiene los elementos $[2, 4, 6]$\n",
    "por lo tanto podemos decir que el complemento de $A$, es decir $A^c$, no es mas que los numeros que no son pares, es decir los numeros impares $[1, 3, 5]$<br>\n",
    "\n",
    "A su vez afirmamos que el Espacio Muestral en su todo contiene un evento y su complemento, haciendo entonces una operacion de union.<br>\n",
    "$M = A \\cup A^c$<br>\n",
    "Por lo tanto para calcular $A^c$, necesitamos invertir la operacion de la siguiente manera.<br> $A^c = M \\setminus A$"
   ]
  },
  {
   "cell_type": "code",
   "execution_count": 22,
   "metadata": {},
   "outputs": [
    {
     "name": "stdout",
     "output_type": "stream",
     "text": [
      "{1, 2, 3, 4, 5, 6, 7, 8, 9, 10, 11}\n",
      "la union entre pares e impares, nos da el espacio muestral\n"
     ]
    }
   ],
   "source": [
    "# tenemos entonces que E es\n",
    "# print(E) [1, 2, 3, 4, 5, 6, 7, 8, 9, 10, 11]\n",
    "# y que A son los numeros pares\n",
    "pares = [2, 4, 6, 8, 10]\n",
    "# si queremos buscar el complemento de 'pares', haremos lo siguiente\n",
    "impares = set(E).difference(pares)\n",
    "# print(impares)\n",
    "\n",
    "union = set(impares).union(pares)\n",
    "print(union)\n",
    "if set(union) == set(E):\n",
    "    print('la union entre pares e impares, nos da el espacio muestral')"
   ]
  },
  {
   "cell_type": "markdown",
   "metadata": {},
   "source": [
    "**Probabilidad condincional**<br>\n",
    "Este concepto segun el notebook del diplomado tiene una importancia crucial para los temas de aprendizaje profundo\n",
    "\n",
    "Se trata de calcular la probabilidad de un evento sujeto a una resticcion, normalmente asociada con otro evento\n",
    "\n",
    "Ejemplo: M = {1, 2, 3, 4, 5, 6, 7, 8, 9, 10}\n",
    "donde numeros azules son = {2, 3, 6, 8}\n",
    "numeros rojos son = {1, 4, 5, 7, 9, 10}\n",
    "calcular la probabilidad de obtener un numero par dado que el numero sea azul\n",
    "\n",
    "pues la logica nos indica en seleccionar primero los numeros azules, reduciendo nuestro espacio muestral\n",
    "y luego calcular la interseccion entre pares y azul\n",
    "\n",
    "la formula entonces es:\n",
    "\n",
    "$Prob[A|B] = {\\dfrac{Prob[A \\cap B]}{Prob[B]}}$"
   ]
  },
  {
   "cell_type": "code",
   "execution_count": 1,
   "metadata": {},
   "outputs": [
    {
     "name": "stdout",
     "output_type": "stream",
     "text": [
      "4\n",
      "0.75\n"
     ]
    }
   ],
   "source": [
    "M = {1, 2, 3, 4, 5, 6, 7, 8, 9, 10}\n",
    "A = {2, 3, 6, 8}\n",
    "R = {1, 4, 5, 7, 9, 10}\n",
    "pares = {2, 4, 6, 8, 10}\n",
    "impares = M.difference(pares)\n",
    "# print(impares)\n",
    "\n",
    "test = A.union(R)\n",
    "test = M.difference(test)\n",
    "print(len(A))\n",
    "PROB = len(pares.intersection(A))/len(A)\n",
    "print(PROB)"
   ]
  },
  {
   "cell_type": "markdown",
   "metadata": {},
   "source": [
    "**Regla multiplicativa de la probabilidad**<br>\n",
    "La regla multiplicativa de la probabilidad se define como\n",
    "\n",
    "$Prob[A \\cap B] = Prob[B] \\times Prob[A|B]$\n",
    "\n",
    "Que proviene como sabemos de la formula condicional, de esta forma podemos calcular la probabilidad de lo que hay en comun entre A y B dentro de un espacio muestral, es decir invertir la ecuacion"
   ]
  },
  {
   "cell_type": "markdown",
   "metadata": {},
   "source": [
    "**Independencia**<br>\n",
    "La logica nos dice que si la probabilidad de un evento $A$ es igual a la probabilidad de un evento $A$ dado $B$ son independiente, ya que el $B$ no afecta en la ecuacion.<br>\n",
    "Si esto sucede tambien sucede en lo contrario<br>\n",
    "\n",
    "Para verificar la independencia podemos usar la siguiente ecuacion.\n",
    "\n",
    "$Prob[A \\cap B] = Prob[A] \\times Prob[B]$ "
   ]
  },
  {
   "cell_type": "code",
   "execution_count": 17,
   "metadata": {},
   "outputs": [
    {
     "name": "stdout",
     "output_type": "stream",
     "text": [
      "si se cumple la condicion\n"
     ]
    }
   ],
   "source": [
    "M = {1, 2, 3, 4, 5, 6, 7, 8}\n",
    "A = {1, 4, 5, 6}\n",
    "B = {1, 5, 8, 9}\n",
    "\n",
    "ProbAcapB = A.intersection(B)\n",
    "ProbAxB = (len(A)/len(M))*(len(B)/len(M))\n",
    "probAcapB = len(ProbAcapB)/len(M)\n",
    "\n",
    "if(ProbAxB == probAcapB):\n",
    "    print('si se cumple la condicion')\n",
    "else:\n",
    "    print('no se cumple la condicion')"
   ]
  },
  {
   "cell_type": "markdown",
   "metadata": {},
   "source": [
    "$Prob[5|azul] = {\\dfrac{Prob[5 \\cap azul]}{Prob[azul]}}$\n",
    "\n",
    "la probabilidad de que salga azul es 1/1 segun el planteamiento\n",
    "la interseccion de 5 en los dados azules"
   ]
  },
  {
   "cell_type": "code",
   "execution_count": 29,
   "metadata": {},
   "outputs": [
    {
     "name": "stdout",
     "output_type": "stream",
     "text": [
      "{5}\n",
      "0.16666666666666666\n",
      "{1, 2, 3, 4, 5, 6}\n",
      "si se cumple la condicion\n"
     ]
    }
   ],
   "source": [
    "import numpy as np\n",
    "M = set(np.arange(1, 7))\n",
    "rojo = {1, 2, 3, 4, 5, 6}\n",
    "azul = {1, 2, 3, 4, 5, 6}\n",
    "cinco = {5}\n",
    "\n",
    "obtener = cinco.intersection(azul)\n",
    "print(obtener)\n",
    "print(len(obtener)/(len(azul)))\n",
    "\n",
    "# vamos a detectar si azul y rojo son independientes\n",
    "\n",
    "ProbAcapB = azul.intersection(rojo)\n",
    "print(ProbAcapB)\n",
    "ProbAxB = (len(azul)/len(M))*(len(rojo)/len(M))\n",
    "probAcapB = len(ProbAcapB)/len(M)\n",
    "\n",
    "if(ProbAxB == probAcapB):\n",
    "    print('si se cumple la condicion')\n",
    "else:\n",
    "    print('no se cumple la condicion')"
   ]
  },
  {
   "cell_type": "code",
   "execution_count": 55,
   "metadata": {},
   "outputs": [
    {
     "name": "stdout",
     "output_type": "stream",
     "text": [
      "0.4067556545905694\n"
     ]
    }
   ],
   "source": [
    "exp = 0.81 ** 10\n",
    "print(exp+0.285179)"
   ]
  },
  {
   "cell_type": "code",
   "execution_count": 110,
   "metadata": {},
   "outputs": [
    {
     "name": "stdout",
     "output_type": "stream",
     "text": [
      "[ 6  5 10 10 11  6 12  4  4 10  9  9  8 11  5  9  9 10  8 10]\n"
     ]
    }
   ],
   "source": []
  },
  {
   "cell_type": "code",
   "execution_count": null,
   "metadata": {},
   "outputs": [],
   "source": []
  },
  {
   "cell_type": "code",
   "execution_count": null,
   "metadata": {},
   "outputs": [],
   "source": []
  },
  {
   "cell_type": "code",
   "execution_count": null,
   "metadata": {},
   "outputs": [],
   "source": []
  }
 ],
 "metadata": {
  "kernelspec": {
   "display_name": "Python 3",
   "language": "python",
   "name": "python3"
  },
  "language_info": {
   "codemirror_mode": {
    "name": "ipython",
    "version": 3
   },
   "file_extension": ".py",
   "mimetype": "text/x-python",
   "name": "python",
   "nbconvert_exporter": "python",
   "pygments_lexer": "ipython3",
   "version": "3.7.8"
  }
 },
 "nbformat": 4,
 "nbformat_minor": 4
}
