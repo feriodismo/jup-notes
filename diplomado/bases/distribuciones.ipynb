{
 "cells": [
  {
   "cell_type": "markdown",
   "metadata": {},
   "source": [
    "#### Distribuciones Binomiales ####"
   ]
  },
  {
   "cell_type": "markdown",
   "metadata": {},
   "source": [
    "Las variables aleatorias, exigen siempre unos parametros para detectar la probabilidad cuando este entra en su funciones.<br>\n",
    "Estos parametros tienen que cumplir unas ciertas normas, al cumplir estas normas se podria decir que los datos a los que se quiere analizar las probabilidades entran dentro de esta distribucion.<br>\n",
    "Los parametros para una distribucion binomial son los siguientes:\n",
    "\n",
    "   1) $n\\ge0$ (numeros enteros)<br>\n",
    "   2) $0 \\ge p \\ge 1$ (probabilidad de exito, tiene que estar entre 0 y 1)\n",
    "\n",
    "Parametros necesarios:\n",
    "\n",
    "   1) $p$ = probabilidad de exito (ej. la probabilidad de exito de que en un dado salga 3 es de 1/6 ya que el 3 es un numero entre 6 posibles numeros)<br>\n",
    "   2) $n$ = numero de experimentos (ej. cuantas veces se lanzo el dado)<br>\n",
    "   3) $x$ = numero de veces con exito (ej. quiero saber la probabilidad de que el dado caiga 5 veces en un chance de 10 lanzada en el numero 3, x = 5)\n",
    "   \n",
    "*Si $x$ no esta definido esto indica que se hara una distribucion, es decir, se hara el analizis completo de las 10 lanzadas de dador, comprobando el la probabilidad de que salga 3 en el dado, $[0, 1, 2, 3, 4 ... n]$*\n",
    "\n",
    "Formula para calcular la probabilidad de una variable aleatoria binomial:\n",
    "\n",
    "$f(x) = \\displaystyle\\binom{n}{x} p^x(1-p)^{n-x}$, donde<br>\n",
    "$ \\displaystyle\\binom{n}{x} = {\\dfrac{n!}{x!(n-x)!}} $<br>\n",
    "\n",
    "Para calcular la anterior ecuacion, hay que tener en cuenta de resolver la resta del dividendo antes de aplicar el factorial, tambien hay que tener en cuenta la siguiente regla:\n",
    "\n",
    "$ 0! = 1! = 1 $ (cero factorial es igual a uno)"
   ]
  },
  {
   "cell_type": "code",
   "execution_count": 5,
   "metadata": {},
   "outputs": [
    {
     "name": "stdout",
     "output_type": "stream",
     "text": [
      "7.444834157690689e-05\n",
      "\n",
      "la distribucion completa del problema a resolver es: \n",
      "\n",
      " [9.157068259764377e-05, 0.0009340209624959663, 0.004670104812479831, 0.015255675720767446, 0.03661362172984187, 0.0688336088521027, 0.10554486690655746, 0.13570054316557387, 0.14927059748213123, 0.14263634870514763, 0.119814532912324, 0.08931628817100515, 0.05954419211400343, 0.03572651526840206, 0.01939439400284683, 0.009567901041404432, 0.004305555468631994, 0.0017728757812014095, 0.0006697530728983101, 0.00023265106742783402, 7.444834157690689e-05, 2.1979986560801078e-05, 5.994541789309384e-06, 1.5116670599128011e-06, 3.527223139796535e-07, 7.618801981960516e-08, 1.523760396392103e-08, 2.8217785118372272e-09, 4.837334591720961e-10, 7.673013490316006e-11, 1.1253753119130141e-11, 1.5247020354950514e-12, 1.9058775443688138e-13, 2.1946468692731794e-14, 2.3237437439363073e-15, 2.257351065538127e-16, 2.0065342804783346e-17, 1.6269196868743252e-18, 1.1987829271705554e-19, 7.991886181137035e-21, 4.79513170868222e-22, 2.5729975022197278e-23, 1.2252369058189178e-24, 5.1288986755210514e-26, 1.8650540638258368e-27, 5.802390420791491e-29, 1.5136670662934323e-30, 3.2205682261562384e-32, 5.3676137102603975e-34, 6.572588216645384e-36, 5.258070573316306e-38]\n"
     ]
    }
   ],
   "source": [
    "import numpy as np\n",
    "import math as m\n",
    "x = 20\n",
    "p = 1/6\n",
    "N = 51\n",
    "\n",
    "def binomial(x, p, N):\n",
    "    return (m.factorial(N))/(m.factorial(x)*m.factorial(N-x))*(p**x)*((1-p)**(N-x))\n",
    "print(binomial(x, p, N))\n",
    "def binomial_dist(x, p, N):\n",
    "    data = []\n",
    "    X = list(np.arange(0, N))\n",
    "    for x in X:\n",
    "        data.append((m.factorial(N))/(m.factorial(x)*m.factorial(N-x))*(p**x)*((1-p)**(N-x)))\n",
    "    return data\n",
    "print('\\nla distribucion completa del problema a resolver es: \\n\\n {}'.format(binomial_dist(x, p, N)))"
   ]
  },
  {
   "cell_type": "code",
   "execution_count": null,
   "metadata": {},
   "outputs": [],
   "source": []
  }
 ],
 "metadata": {
  "kernelspec": {
   "display_name": "Python 3",
   "language": "python",
   "name": "python3"
  },
  "language_info": {
   "codemirror_mode": {
    "name": "ipython",
    "version": 3
   },
   "file_extension": ".py",
   "mimetype": "text/x-python",
   "name": "python",
   "nbconvert_exporter": "python",
   "pygments_lexer": "ipython3",
   "version": "3.7.8"
  }
 },
 "nbformat": 4,
 "nbformat_minor": 4
}
