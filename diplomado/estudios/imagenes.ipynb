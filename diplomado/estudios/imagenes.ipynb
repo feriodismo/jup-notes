{
 "cells": [
  {
   "cell_type": "markdown",
   "metadata": {},
   "source": [
    "**¿Como se computa una imagen?**"
   ]
  },
  {
   "cell_type": "markdown",
   "metadata": {},
   "source": [
    "Segun un articulo (1) que estoy leyendo sobre redes neuronales, pude entender mas o menos como se descompone una imagen para su computo. Entendi que una imagen en el caso de que sea una imagen en blanco y negro, esta compuesta por una matriz de npixeles horizontales, y npixeles verticales, cuyos elementos componen un numero entre el 0 < 255. Para verificar si esto es cierto tomare 5 imagenes de la internet y analizare estos datos."
   ]
  },
  {
   "cell_type": "code",
   "execution_count": 24,
   "metadata": {},
   "outputs": [],
   "source": [
    "# importamos las librerias necesarias\n",
    "import urllib.request as urllib\n",
    "import numpy as np\n",
    "from PIL import Image"
   ]
  },
  {
   "cell_type": "code",
   "execution_count": 25,
   "metadata": {},
   "outputs": [],
   "source": [
    "# llamamos la imagen desde su url\n",
    "img, img_data = [], []\n",
    "# llamamos una imagen en blanco y negro\n",
    "img.append('https://upload.wikimedia.org/wikipedia/commons/thumb/1/1b/Nietzsche187a.jpg/800px-Nietzsche187a.jpg')\n",
    "# llamamos una imagen a color\n",
    "img.append('https://upload.wikimedia.org/wikipedia/commons/thumb/f/fb/Slavoj_%C5%BDi%C5%BEek_2015.jpg/1280px-Slavoj_%C5%BDi%C5%BEek_2015.jpg')\n",
    "# transformamos las imagenes array\n",
    "for i in img:\n",
    "    # extrameos la info del url\n",
    "    req = urllib.urlopen(i)\n",
    "    # abrimos en python la imagen\n",
    "    image = Image.open(req)\n",
    "    # la convertimos en un array n dimensional\n",
    "    arr = np.asarray(image)\n",
    "    # la incorporamos en nuestro array de imagenes transformadas\n",
    "    img_data.append(arr)"
   ]
  },
  {
   "cell_type": "code",
   "execution_count": 26,
   "metadata": {},
   "outputs": [
    {
     "name": "stdout",
     "output_type": "stream",
     "text": [
      "esta es una imagen en blanco y negro\n",
      "--------\n",
      "dimensiones: 2\n",
      "shape: (1085, 800)\n",
      "size: 868000 \n",
      "\n",
      "\n",
      "esta es una imagen a color\n",
      "--------\n",
      "dimensiones: 3\n",
      "shape: (862, 1280, 3)\n",
      "size: 3310080 \n",
      "\n",
      "\n"
     ]
    }
   ],
   "source": [
    "# imprimos la forma y el tamanio de la imagen para analizarlas\n",
    "def print_props(img_data):\n",
    "    for i in img_data:\n",
    "        print ('esta es una imagen a color\\n--------' if i.ndim == 3 else 'esta es una imagen en blanco y negro\\n--------')\n",
    "        print('dimensiones: {}'.format(i.ndim))\n",
    "        print('shape: {}'.format(i.shape))\n",
    "        print('size: {} \\n\\n'.format(i.size))\n",
    "        \n",
    "print_props(img_data)"
   ]
  },
  {
   "cell_type": "markdown",
   "metadata": {},
   "source": [
    "**Analisis**\n",
    "\n",
    "En el ejercicio que realice para explorar el contenido de una imagen, pude darme cuenta de lo siguiente, que en las dimensiones estan las propiedades visuales de la imagen, en las de blanco y negro, podemos identificar que las coordenadas nos indican el elemento pixel, en este sentido en la primera imagen de Nietszche podemos ver que si apuntamos a la coordenada (12, 103) nos dara un valor entre 0 - 255 como indica la teoria. porque lo que estamos indicando es buscame el valor de el pixel (largo, ancho). En el caso de los colores como funciona en rgb, tendremos tres datos dentro de esa coordenada (el rojo, el verde, y el azul) de esta manera tambien entendi que podemos identificar si la imagen tiene color o no por sus dimensiones. una imagen ndim = 2 es blanco y negro y una imagen ndim = 3 es una imagen a color"
   ]
  },
  {
   "cell_type": "markdown",
   "metadata": {},
   "source": [
    "**Links de imagenes utilizado para el analisis**\n",
    "1. https://upload.wikimedia.org/wikipedia/commons/thumb/1/1b/Nietzsche187a.jpg/800px-Nietzsche187a.jpg\n",
    "[Friedrich Hartmann - https://s-media-cache-ak0.pinimg.com/originals/04/10/0b/04100baec90c105729b47f33c371476b.jpg]\n",
    "\n",
    "2. https://upload.wikimedia.org/wikipedia/commons/thumb/f/fb/Slavoj_%C5%BDi%C5%BEek_2015.jpg/1280px-Slavoj_%C5%BDi%C5%BEek_2015.jpg\n",
    "[Amrei-Marie - Trabajo propio]"
   ]
  },
  {
   "cell_type": "markdown",
   "metadata": {},
   "source": [
    "**Referencias**"
   ]
  },
  {
   "cell_type": "markdown",
   "metadata": {},
   "source": [
    "1. https://medium.com/@jcrispis56/introducci%C3%B3n-al-deep-learning-parte-2-redes-neuronales-convolucionales-f743266d22a0"
   ]
  }
 ],
 "metadata": {
  "kernelspec": {
   "display_name": "Python 3",
   "language": "python",
   "name": "python3"
  },
  "language_info": {
   "codemirror_mode": {
    "name": "ipython",
    "version": 3
   },
   "file_extension": ".py",
   "mimetype": "text/x-python",
   "name": "python",
   "nbconvert_exporter": "python",
   "pygments_lexer": "ipython3",
   "version": "3.7.8"
  }
 },
 "nbformat": 4,
 "nbformat_minor": 4
}
