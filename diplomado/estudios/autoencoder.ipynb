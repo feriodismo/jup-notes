{
 "cells": [
  {
   "cell_type": "markdown",
   "metadata": {},
   "source": [
    "**¿Que es un autoencoder?**\n",
    "\n",
    "Segun lo pude entender un autoencoder es una red neuronal, cuya estructura esta dividida en tres elementos:\n",
    "\n",
    "->input\n",
    "-codificador\n",
    "->codigo\n",
    "-decodificador\n",
    "->output\n",
    "\n",
    "Su lo que hace genial un autoencoder normal es su capacidad de compresion de informacion, o de convertir la informacion a lenguaje maquina, haciendo operable la codificacion. Sus usos mas comunes son de filtro de informacion. 'informacion de baja dimension (en cuanto a tensores) comprimida)' llamado tambien' representacion'\n",
    "\n",
    "En una capa mas elevada se encuentra VAE 'Variatonal Autencoder' que utiliza backpropagation con distribuciones para mejorar su desempenio. Este tipo de autoencoder forma parte de lo que se llama 'Generative Models' ya que una de su funcion es la de generar contenido\n",
    "\n",
    "En otra capa mas elevada esta lo que se llama GAN, formado por dos sectores de redes neuronales simples. Una que se encarga de producir contenido y la otra de detectar en un bucket de contenido producido y almacenado las imagenes son verdaderas o falsas. A modo de bucle van jugando a quien gana 'si el que produce el contenido hace un contenido tan parecido a un contenido real, que el otro modelo lo cataloga como verdadero' o 'si el modelo detecta que el contenido producido aun si muy realista, es un contenido falso', de esta manera en conjunto se van mejorando sus funciones.\n",
    "\n",
    "En el video de la historia del GAN (1), pude entender que hacer un modelo neuronal tiene relacion con la cocina, a modo de ingredientes/logica/creatividad y producto\n",
    "\n",
    "-¿como funciona matematicamente un autoencoder normal?\n",
    "\n",
    "*leer detalladamente referencia 6*\n",
    "\n",
    "-¿como calcular el bias de un dataset?\n",
    "\n",
    "-¿un dense layer es un autoencoder?\n",
    "\n",
    "*ingresar a este cuaderno si se quiere entender la exploracion de una imagen*\n"
   ]
  },
  {
   "cell_type": "markdown",
   "metadata": {},
   "source": [
    "**Referencias**\n",
    "1. https://www.youtube.com/watch?v=C1YUYWP-6rE\n",
    "2. https://www.youtube.com/channel/UC5_6ZD6s8klmMu9TXEB_1IA\n",
    "3. https://wiseodd.github.io/techblog/2016/12/10/variational-autoencoder/\n",
    "4. https://medium.com/analytics-vidhya/mathematical-prerequisites-for-understanding-autoencoders-and-variational-autoencoders-vaes-8f854025390e\n",
    "5. https://wiseodd.github.io/techblog/2016/12/10/variational-autoencoder/\n",
    "6. https://medium.com/@jcrispis56/deep-learning-b%C3%A1sico-parte-final-autoencoders-3d5c6fff2966"
   ]
  }
 ],
 "metadata": {
  "kernelspec": {
   "display_name": "Python 3",
   "language": "python",
   "name": "python3"
  },
  "language_info": {
   "codemirror_mode": {
    "name": "ipython",
    "version": 3
   },
   "file_extension": ".py",
   "mimetype": "text/x-python",
   "name": "python",
   "nbconvert_exporter": "python",
   "pygments_lexer": "ipython3",
   "version": "3.7.8"
  }
 },
 "nbformat": 4,
 "nbformat_minor": 4
}
