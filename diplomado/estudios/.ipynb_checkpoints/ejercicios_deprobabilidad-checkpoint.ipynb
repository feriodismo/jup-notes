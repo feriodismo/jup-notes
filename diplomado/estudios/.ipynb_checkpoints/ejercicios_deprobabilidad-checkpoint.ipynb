{
 "cells": [
  {
   "cell_type": "markdown",
   "metadata": {},
   "source": [
    "### Considere el siguiente experimento. Se lanzan dos dados no cargados de seis caras cada uno. El resultado del experimento es una pareja de números. Por ejemplo (5,6)."
   ]
  },
  {
   "cell_type": "markdown",
   "metadata": {},
   "source": [
    "***\n",
    "#### 1. Haga una tabla, usando Markdown con todo el espacio muestral M. Ayuda: son 36 elementos.\n",
    "##### *supongo que son 36 ya que se multiplican los elementos de los dos dados ($6*6$)\n",
    "\n",
    "|  | 1 | 2 | 3 | 4 | 5 | 6 |\n",
    "| --- | --- | --- | --- | --- | --- | --- |\n",
    "| 1 | 1-1 | 1-2 | 1-3 | 1-4 | 1-5 | 1-6 |\n",
    "| 2 | 2-1 | 2-2 | 2-3 | 2-4 | 2-5 | 2-6 |\n",
    "| 3 | 3-1 | 3-2 | 3-3 | 3-4 | 3-5 | 3-6 |\n",
    "| 4 | 4-1 | 4-2 | 4-3 | 4-4 | 4-5 | 4-6 |\n",
    "| 5 | 5-1 | 5-2 | 5-3 | 5-4 | 5-5 | 5-6 |\n",
    "| 6 | 6-1 | 6-2 | 6-3 | 6-4 | 6-5 | 6-6 |"
   ]
  },
  {
   "cell_type": "markdown",
   "metadata": {},
   "source": [
    "***\n",
    "#### ¿Cuántos eventos son posibles? Use Python para hacer el cálculo.\n",
    "##### *Primero tendria que calcular cual es la formula que segun la teoria $2^M$, que en este caso no seria mas que: $2^{36}$*\n"
   ]
  },
  {
   "cell_type": "code",
   "execution_count": 2,
   "metadata": {},
   "outputs": [],
   "source": [
    "import numpy as np"
   ]
  },
  {
   "cell_type": "code",
   "execution_count": 3,
   "metadata": {},
   "outputs": [],
   "source": [
    "# Usando Python para resolver este problema\n",
    "\n",
    "# Metodo 1\n",
    "e =  pow(2, 36)\n",
    "# 68719476736\n",
    "\n",
    "# Metodo 2\n",
    "e = 2 ** 36\n",
    "# 68719476736"
   ]
  },
  {
   "cell_type": "markdown",
   "metadata": {},
   "source": [
    "***\n",
    "#### Calcule la probabilidad de obtener 2,3,... 12.\n",
    "##### *Primero tendria que obtener la suma cada una de las combinaciones de los dados*"
   ]
  },
  {
   "cell_type": "code",
   "execution_count": 4,
   "metadata": {},
   "outputs": [
    {
     "name": "stdout",
     "output_type": "stream",
     "text": [
      "segun este metodo la funcion esta correcta, ya que la cantidad de los eventos es igual a la cantidad de elementos dentro de nuestro array creado\n"
     ]
    }
   ],
   "source": [
    "# convertimos en lista cada dado\n",
    "dado = []\n",
    "dado.append(np.arange(1, 7))\n",
    "dado.append(np.arange(1, 7))\n",
    "\n",
    "# calculamos la totalidad de los eventos\n",
    "M = len(dado[0])*len(dado[1])\n",
    "e = pow(2, M)\n",
    "\n",
    "# generamos una funcion para que nos calcule los 36 posibles eventos\n",
    "def eventos_dados():\n",
    "    eventos = []\n",
    "    for i in dado[0]:\n",
    "        for j in dado[1]:\n",
    "            eventos.append(i+j)\n",
    "    return eventos\n",
    "\n",
    "# hacemos una funcion para verificar si nuestra funcion anterior esta bien\n",
    "def val_eventos():\n",
    "    if M == len(eventos_dados()):\n",
    "        print('segun este metodo la funcion esta correcta, ya que la cantidad de los eventos es igual a la cantidad de elementos dentro de nuestro array creado')\n",
    "        return eventos_dados()\n",
    "    else:\n",
    "        return print('probablemente nuestra funcion tiene un error!')\n",
    "    \n",
    "val_eventos()\n",
    "\n",
    "# instanciamos en el nombre de una variable nuestra funcion creada\n",
    "eventos = sorted(eventos_dados())\n",
    "\n",
    "# calcularemos ahora la frecuencia de los eventos, para determinar su probabilidad, creando una funcion\n",
    "def frecuencia(eventos):\n",
    "    fde = {}\n",
    "    for e in eventos:\n",
    "        if(e in fde):\n",
    "            fde[e] += 1\n",
    "        else:\n",
    "            fde[e] = 1\n",
    "    return fde\n",
    "\n",
    "frecuencia = frecuencia(eventos)\n",
    "# finalmente haremos una funcion que nos calcule la probabilidad de 2 a 12\n",
    "# como input recibe una lista de los datos que se quieran calcular y devuelve una lista con la probabilidad, si en el input entra un valor, que no es reconocido no devolvera su probabilidad\n",
    "def prob(lista):\n",
    "    probs = []\n",
    "    for l in lista:\n",
    "        for f, value in frecuencia.items():\n",
    "            if(f == l):\n",
    "                probs.append(round(value/36, 2))\n",
    "    return probs"
   ]
  },
  {
   "cell_type": "code",
   "execution_count": 5,
   "metadata": {},
   "outputs": [
    {
     "name": "stdout",
     "output_type": "stream",
     "text": [
      "[0.03, 0.06, 0.08, 0.11, 0.14, 0.17, 0.14, 0.11, 0.08, 0.06, 0.03]\n"
     ]
    }
   ],
   "source": [
    "# imprimimos una prueba\n",
    "algunos = prob([12, 3, 2])\n",
    "# [0.03, 0.06, 0.03]\n",
    "\n",
    "# imprimos lo que nos pide la pregunta\n",
    "probabilidades = prob(np.unique(eventos))\n",
    "print(probabilidades)"
   ]
  },
  {
   "cell_type": "markdown",
   "metadata": {},
   "source": [
    "***\n",
    "#### Calcule la probabilidad de obtener un número par.\n",
    "##### *Deberiamos extraer los numeros pares de nuestra lista de eventos, obtener la cantidad total de esta nueva lista*"
   ]
  },
  {
   "cell_type": "code",
   "execution_count": 6,
   "metadata": {},
   "outputs": [
    {
     "name": "stdout",
     "output_type": "stream",
     "text": [
      "0.5\n"
     ]
    }
   ],
   "source": [
    "# obtendremos los numeros pares de nuestra lista de eventos haciendo una funcion que calcule los numeros pares y los numeros impares\n",
    "# tipo -> un numero entero, para calcular su paridad, a partir de la paridad del 'tipo', usaremos como calculo\n",
    "def paridad(tipo, lista):\n",
    "    out = []\n",
    "    tipo = tipo%2\n",
    "    for v in lista:\n",
    "        if(v%2 == tipo):\n",
    "            out.append(v)\n",
    "    return out\n",
    "\n",
    "pares = paridad(1, eventos)\n",
    "prob_pares = len(pares)/M\n",
    "print(prob_pares)"
   ]
  },
  {
   "cell_type": "code",
   "execution_count": 8,
   "metadata": {},
   "outputs": [
    {
     "name": "stdout",
     "output_type": "stream",
     "text": [
      "[[[ 2  3  3  4  4  4  5  5  5]\n",
      "  [ 5  6  6  6  6  6  7  7  7]]\n",
      "\n",
      " [[ 7  7  7  8  8  8  8  8  9]\n",
      "  [ 9  9  9 10 10 10 11 11 12]]]\n",
      "(2, 2, 9)\n",
      "3\n"
     ]
    }
   ],
   "source": [
    "T = np.asanyarray(eventos)\n",
    "T = T.reshape(2, 2, int(len(T)/4))\n",
    "print(T)\n",
    "print(T.shape)\n",
    "print(T.ndim)"
   ]
  }
 ],
 "metadata": {
  "kernelspec": {
   "display_name": "Python 3",
   "language": "python",
   "name": "python3"
  },
  "language_info": {
   "codemirror_mode": {
    "name": "ipython",
    "version": 3
   },
   "file_extension": ".py",
   "mimetype": "text/x-python",
   "name": "python",
   "nbconvert_exporter": "python",
   "pygments_lexer": "ipython3",
   "version": "3.7.8"
  }
 },
 "nbformat": 4,
 "nbformat_minor": 4
}
